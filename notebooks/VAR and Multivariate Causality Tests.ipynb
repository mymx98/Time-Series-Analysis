{
 "cells": [
  {
   "cell_type": "markdown",
   "metadata": {
    "colab_type": "text",
    "id": "ryTrvjOCd82W"
   },
   "source": [
    "### Week 5 - VAR and Multivariate Causality Tests"
   ]
  },
  {
   "cell_type": "markdown",
   "metadata": {
    "colab_type": "text",
    "id": "2Pul9JPReC4I"
   },
   "source": [
    "### 1. Causality Analysis Motivation"
   ]
  },
  {
   "cell_type": "markdown",
   "metadata": {
    "colab_type": "text",
    "id": "Zb4NM2-CsAFa"
   },
   "source": [
    "VARs can contain many estimated parameters.\n",
    "\n",
    "We want to know which variables are important or not.\n",
    "\n",
    "You can do Granger causality tests, where you do joint tests on whetehr lags of other variabels help to predict $y$ having already included lags of $y$. i.e. Does including additional variables give better predictability?\n",
    "\n",
    "Granger causality tests test predictability/correlation, not causation.\n",
    "\n",
    "Note it is near impossible to detect causal relationships from just visually inspecting the series.\n",
    "\n",
    "In addition, a scatter plot can show the direction of association, but not identify the direction of causality.\n",
    "\n",
    "Same as correlation matrix."
   ]
  },
  {
   "cell_type": "markdown",
   "metadata": {
    "colab_type": "text",
    "id": "3oYwpCt7tQ-z"
   },
   "source": [
    "### 2. Types of Granger Causality\n"
   ]
  },
  {
   "cell_type": "markdown",
   "metadata": {
    "colab_type": "text",
    "id": "csnEup9tyS9U"
   },
   "source": [
    "1.   Biivariate causality (variable directly GC another variable)\n",
    "\n",
    "\n",
    "> a. Unidirectional fail to GC\n",
    "\n",
    "> b. Unidirectional causality\n",
    "\n",
    "> c. Bidirectional causality (or feedback)\n",
    "\n",
    "> d. Independence\n",
    "\n",
    "2.   Multivariate causality\n",
    "\n",
    "\n",
    "\n",
    "> a. X GC Y which then GC Z\n",
    "\n",
    "\n",
    "> b. X GC Y and Z but Y and Z are independent (drawn as a tree), note a bivariate test between Y and Z would mistakenly identify a causal link between the two (spurious result), also if Y and Z fail to cause X, then X is considered exogenous i.e. not affected by the system, variables that are not exogenous are endogenous"
   ]
  },
  {
   "cell_type": "markdown",
   "metadata": {
    "colab_type": "text",
    "id": "u0w68EHQu5IK"
   },
   "source": [
    "### 3. Testing Granger Causality"
   ]
  },
  {
   "cell_type": "markdown",
   "metadata": {
    "colab_type": "text",
    "id": "7HmNcU2Xu8Br"
   },
   "source": [
    "Suppose you have a bivariate VAR with 2 lags.\n",
    "\n",
    "If you want to test if Y2 granger causes Y1, you test the null hypothesis:\n",
    "\n",
    "$H_0: \\phi_{13} = \\phi_{14}=0$ i.e. Y1 equation Y2 lags\n",
    "\n",
    "$H_1:$ at least one restriction fails\n",
    "\n",
    "We reject the null if the p-value is less than 0.05.\n",
    "\n",
    "\n",
    "In addition, which optimal alg structure, if optimal lag structure is 0, this implies no causal linkage between the two variables."
   ]
  }
 ],
 "metadata": {
  "kernelspec": {
   "display_name": "Python 3.8.0 64-bit",
   "metadata": {
    "interpreter": {
     "hash": "2d04f120ef9720f2488447f7ea0097f595927923387bca235b2adec1aebe5795"
    }
   },
   "name": "python3"
  },
  "language_info": {
   "name": "python",
   "nbconvert_exporter": "python",
   "version": "3.8.0"
  },
  "orig_nbformat": 2
 },
 "nbformat": 4,
 "nbformat_minor": 2
}