{
 "cells": [
  {
   "cell_type": "markdown",
   "metadata": {
    "colab_type": "text",
    "id": "DnPSH7_jyUuE"
   },
   "source": [
    "### Week 6 - Multivariate Model Extensions"
   ]
  },
  {
   "cell_type": "markdown",
   "metadata": {
    "colab_type": "text",
    "id": "dpEiWDzsyc1G"
   },
   "source": [
    "### 1. Impulse Response Analysis Motivation"
   ]
  },
  {
   "cell_type": "markdown",
   "metadata": {
    "colab_type": "text",
    "id": "RcZDdt11nwA6"
   },
   "source": [
    "Granger causality tests relative importance of variables in a VAR.\n",
    "\n",
    "Granger causality doesn't tell us anything about the sign or direction of causality. It may only be obvious by looking at a 1 lag model and the sign of the coefficients. \n",
    "\n",
    "For more complicated models, this is more difficult. Hence, we compute impulse responses, which basically is feeding a 'shock' into the VAR and see how variables change over time."
   ]
  },
  {
   "cell_type": "markdown",
   "metadata": {
    "colab_type": "text",
    "id": "8l9X1w4up5Bv"
   },
   "source": [
    "### 2. Impulse Response Analysis - Cholesky Decomposition"
   ]
  },
  {
   "cell_type": "markdown",
   "metadata": {
    "colab_type": "text",
    "id": "hVR7nRcHp-dW"
   },
   "source": [
    "With our regular VAR, we have have non-independent error terms from our equations. e.g. for a bivariate case, $E(u_{1t} u_{2t}) \\ne 0$. i.e. The error covariance matrix $\\Omega$ is non-diagonal.\n",
    "\n",
    "This is a problem because a shock in $u_{1t}$ is difficult to interpret as this is not independent of a shock in the second equation. You want to see see how a variable changes due a shock, we can't see the causal link as it could also be responsible to another shock.\n",
    "\n",
    "The aim is to obtain a strutural model where we have structural independent errors.\n",
    "\n",
    "We want to re-write the model (more specifically the way to compute parameter coefficients) where your second equation contains the $y_{1t}$ in the second equation for $y_{2t}$ as an explanatory variable. 1st equation is the same.\n",
    "\n",
    "The benefit is that we have new error terms $v_{1t}$ and $v_{2t}$ are independent i.e. $E(v_{1t} v_{2t}) = 0$.\n",
    "\n",
    "This transformation of a VAR is known as:\n",
    "1.   Cholesky decomposition\n",
    "2.   Recursive structural VAR (SVAR)\n",
    "\n",
    "e.g. If we had a trivariate case:\n",
    "*   1st equation remains the same\n",
    "*   2nd equation has the $y$ variable from the first equation\n",
    "*   3rd equation has the $y$ variables from the first and second equations\n",
    "\n",
    "Given this, the error terms are now independent. Off-diagonal elements of the new $\\Omega$ is 0. Zero covariances, this means LS is asympottically efficient.\n",
    "\n",
    "Given a shock in $v_{1t}$ of size $\\sigma_1$ in the first period.\n",
    "\n",
    "In the same first period:\n",
    "*   $y_{1t}$ changes by $\\sigma_1$\n",
    "*   $y_{2t}$ changes by $b_4\\sigma_1$\n",
    "*   $y_{3t}$ changes by $c_4\\sigma_1$\n",
    "\n",
    "Given a shock in $v_{2t}$ of size $\\sigma_2$ in the first period.\n",
    "\n",
    "In the same first period:\n",
    "*   $y_{1t}$ does not change as it has no $y_{2t}$ in the equation\n",
    "*   $y_{2t}$ changes by $\\sigma_2$\n",
    "*   $y_{3t}$ changes by $c_5\\sigma_2$\n",
    "\n",
    "Given a shock in $v_{3t}$ of size $\\sigma_3$ in the first period.\n",
    "\n",
    "In the same first period:\n",
    "*   $y_{1t}$ does not change as it has no $y_{3t}$ in the equation\n",
    "*   $y_{2t}$ does not change\n",
    "*   $y_{3t}$ changes by $\\sigma_3$\n",
    "\n",
    "To know what happens in the next period, rewrite the model for $y_{t+1}$ and see how our changes from period 1 affect it. You can also look at derivatives:\n",
    "$\\frac{\\partial y_{1t+1}}{\\partial v_{1t}} = a_1 \\frac{\\partial y_{1t}}{\\partial v_{1t}} = a_1 \\sigma_1$\n",
    "\n",
    "Know how to do this with the 3rd equation.\n",
    "\n",
    "We can estimate this system/SVAR by applyign least squares to each equation one at a time, given our new explanatory variables.\n",
    "\n",
    "The size of the shocks $\\Omega_1, \\Omega_2, \\Omega_3$ are the standard deviations of the error terms of each structural equation (standard errors of regression).\n",
    "\n",
    "The computed SE of regression may require an adjustment, you need to make a degrees of freedom adjustment. 1st equation stays the same. But the second equation now has an additional explanatory variable and thus has 1 less degree of freedom. Hence, you make the adjustment:\n",
    "$\\hat \\sigma_2 = 0.015900 \\times \\sqrt{(198 - 5)/(198 - 4))} = 0.015859$\n",
    "\n",
    "3rd equation now has 6 variables, not 5. Change 5 to 6.\n",
    "\n",
    "In Eviews, estimate the VAR, then click Impulse, 20 periods, no response standard errors, click OK. You can then plot the impulses. If you shock output for example, you can see the effect in different periods.\n",
    "\n",
    "\n",
    "\n"
   ]
  },
  {
   "cell_type": "markdown",
   "metadata": {
    "colab_type": "text",
    "id": "wGj0HTQnyhKf"
   },
   "source": [
    "### 2. Variance Decomposition"
   ]
  },
  {
   "cell_type": "markdown",
   "metadata": {
    "colab_type": "text",
    "id": "2gGhSgdr0VXR"
   },
   "source": [
    "From Impulse Response, we can learn about the dynamics and the direction of causality, but not what is important or not.\n",
    "\n",
    "Variance decomposition allows us to do this, using the same information from the impulse response, figuring out the relative importance of shocks in the system.\n",
    "\n",
    "Impulse responses are about the conditional mean, variance decomposition is about the conditional variance.\n",
    "\n",
    "Consider the VAR. We obtain a SVAR, where the shocks $v_{1t}, v_{2t}, v_{3t}$ are independent.\n",
    "\n",
    "We define the 1-step forecast error variance of $y_{1t}$ conditional on information at $t - 1$ as:\n",
    "\n",
    "$e_{1t} = y_{1t} - E_{t-1}(y_{1t}) = v_{1t}$\n",
    "\n",
    "The one-step ahead forecast error for $y_{1t}$ is simply equal its own structural shock $v_{1t}$ because $E_{t-1}(v_{1t}) = 0$.\n",
    "\n",
    "The forecast error variance conditional on last periods information is:\n",
    "\n",
    "$var_{t-1}(e_{1t})=E_{t-1}(e^2_{1t}) = E_{t-1}(v^2_{1t}) = \\sigma^2_1$\n",
    "\n",
    "Because the forecast error mean is 0 and the definition of the error variance being $\\sigma^2_1$.\n",
    "\n",
    "Hence, for the first equation, we can decompose the forecast variance due to its own shocks ($y_{1t}$) or by other shocks ($y_{2t}, y_{3t}$).\n",
    "\n",
    "Total variance is: $var_{t-1}(e_{1t})$\n",
    "\n",
    "Variance due to its own shock: $\\sigma^2_1$\n",
    "\n",
    "Hence, the proportion due to itself is 1 or 100%, and the proportion due to other shocks is 0 or 0%.\n",
    "\n",
    "An estimate of the 1-step ahead forecast variance for $y_{1t}$ is: \n",
    "\n",
    "$\\hat var_{t-1}(e_{1t})=\\hat \\sigma^2_1 = 0.011799^2$\n",
    "\n",
    "Do the same for the forecast error variance of $y_{2t}$.\n",
    "\n",
    "Based on its expectation, the error variances $v_{1t}$ and $v_{2t}$ are 0. Hence, the difference is:\n",
    "\n",
    "$e_{2t} = y_{2t} - E_{t-1}(y_{2t}) = v_{2t} + b_4 v_{1t}$\n",
    "\n",
    "i.e. The forecast error is due to both variable 1 shocks and variable 2 shocks.\n",
    "\n",
    "The solve for the forecast error variance, we square the term $e_{2t} = y_{2t} - E_{t-1}(y_{2t}) = v_{2t} + b_4 v_{1t}$, expand it and obtain:\n",
    "\n",
    "$E_{t-1}(v^2_{2t} + b^2_4 v^2_{1t} + 2v_{2t}v_{1t})$\n",
    "\n",
    "Because we know that the error terms are independent and the definition of the error variances, the forecast error variance of $y_{2t}$ is:\n",
    "\n",
    "$var_{t-1}(e_{2t}) = \\sigma^2_2 + b^2_4 \\sigma^2_1$\n",
    "\n",
    "The proportion of forecast error variance 1-step ahead for $y_{2t}$ due to itself is $\\frac{b^2_4 \\sigma^2_1}{var_{t-1}(e_{2t})}$ and due to $y_{2t}$ shocks is $\\frac{\\sigma^2_2}{var_{t-1}(e_{2t})}$ and proportion due to $y_{3t}$ is 0.\n",
    "\n",
    "We know all these variables, so we can compute these variances and the proportion of the variance due to itself and others.\n",
    "\n",
    "Eview: VAR -> View / Variance Decomposition\n",
    "\n",
    "You can look at short-run (1 year) and long-run (5 year ) effects, where you can check the significant causal patterns between variables (e.g. based on contributions above 10%).\n",
    "\n",
    "\n"
   ]
  },
  {
   "cell_type": "markdown",
   "metadata": {
    "colab_type": "text",
    "id": "NyHHcq49yjaC"
   },
   "source": [
    "### 3. Diebold-Yilmaz Spillover Index"
   ]
  },
  {
   "cell_type": "markdown",
   "metadata": {
    "colab_type": "text",
    "id": "sAAmmIMoP72k"
   },
   "source": [
    "1 application of the variance decomposition.\n",
    "\n",
    "Used to show how markets are connected, their interdependence (where forecase error variance comes from, its own market or other markets) and performs network analysis.\n",
    "\n",
    "You pick a particular time horizon. e.g. if you are interested in a business cycle, maybe 5-year cycle.\n",
    "\n",
    "We obtain the variance decomposition matrix.\n",
    "\n",
    "The spillover index tells us the total variability that is due to spillovers between markets (i.e. not from itself). e.g. if you had 3 variables, and 90% of variability comes from itself, the idnex would be equal to 300% - 90%/300% = 210/300 = 70%. \n",
    "\n",
    "You build a VAR, based on the market returns, and choose the optimal lag based on AIC, SIC and HQ.\n",
    "\n",
    "Then compute the forecast error and variance based on the difference between the realised value and the expected value based on the VAR.\n"
   ]
  },
  {
   "cell_type": "markdown",
   "metadata": {
    "colab_type": "text",
    "id": "vXFTpSRNymwz"
   },
   "source": [
    "### 4. Nonrecursive SVARs"
   ]
  },
  {
   "cell_type": "markdown",
   "metadata": {
    "colab_type": "text",
    "id": "-AOe4RFAWcqh"
   },
   "source": [
    "Sims critical of recursive (changing the ordering of the variables) macroeconomic models (variable 1 feeds into variable 2, variable 2 feeds into variable 3), because it is restrictibe in terms of economic theory.\n",
    "\n",
    "Cheolesky decomposition has the same criticism.\n",
    "\n",
    "The end of the day, ordering is not justified by economic theory.\n",
    "\n",
    "Hence, non-recursive structure seems to make more economic sense.\n",
    "\n",
    "Models can be estimated using Eviews, but outside of the course (estimation more involved).\n",
    "\n"
   ]
  }
 ],
 "metadata": {
  "kernelspec": {
   "display_name": "Python 3.8.0 64-bit",
   "metadata": {
    "interpreter": {
     "hash": "2d04f120ef9720f2488447f7ea0097f595927923387bca235b2adec1aebe5795"
    }
   },
   "name": "python3"
  },
  "language_info": {
   "name": "python",
   "nbconvert_exporter": "python",
   "version": "3.8.0"
  },
  "orig_nbformat": 2
 },
 "nbformat": 4,
 "nbformat_minor": 2
}