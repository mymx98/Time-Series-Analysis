{
 "cells": [
  {
   "cell_type": "markdown",
   "metadata": {
    "colab_type": "text",
    "id": "cbvWw19-slfU"
   },
   "source": [
    "### Week 4 - Multivariate VAR Models"
   ]
  },
  {
   "cell_type": "markdown",
   "metadata": {
    "colab_type": "text",
    "id": "Pqldu24Ms1uI"
   },
   "source": [
    "### 1. VAR Specification"
   ]
  },
  {
   "cell_type": "markdown",
   "metadata": {
    "colab_type": "text",
    "id": "Eb0UQ6HSYesg"
   },
   "source": [
    "We have N variables $[y_{1t},y_{2t}, ..., y_{Nt}]$\n",
    "\n",
    "Model is specified as:\n",
    "\n",
    "$y_t = \\Phi_0 + \\Phi_1 y_{t-1} + \\Phi_2 y_{t-2} + ... + \\Phi_p y_{t-p} + u_t$\n",
    "\n",
    "Basically we regress each variable by all variable lags. Hence, we have $N\\times 1$ constants $\\Phi_0$ and $N\\times p$ parameters and $N\\times 1$ error terms.\n",
    "\n",
    "The error terms are non-autocorrelated with zero mean and covariance, same as before - in vector notation, this is:\n",
    "\n",
    "\n",
    "$\\Omega = E(u_t u_t')$\n",
    "\n",
    "\n"
   ]
  },
  {
   "cell_type": "markdown",
   "metadata": {
    "colab_type": "text",
    "id": "ILPZ0cuys5bh"
   },
   "source": [
    "### 2. VAR Estimation"
   ]
  },
  {
   "cell_type": "markdown",
   "metadata": {
    "colab_type": "text",
    "id": "nAWyhsJeZibR"
   },
   "source": [
    "Estimation by doing $N$ number of OLS estimations for each $N$ variable, regressing on all variables for $p$ lags and a constant.\n",
    "\n",
    "OLS estimator for VAR properties:\n",
    "1.   Asymptotically efficient (i.e. produces smallest standard errors of any other estimator), because all explanatory variables are the same\n",
    "\n",
    "MLE estimator for VAR proeprties:\n",
    "1.   More useful if the set of explanatory variables in the VAR are not necessarily the same in each equation\n",
    "2.   More useful if VAR is extended to SVAR to allow for more structural information\n",
    "3. The df-adjusted log-likelihood is used to determine the overall lag length $p$ of the VAR\n",
    "\n",
    "MLE estimation involves:\n",
    "*   Again assuming $u_t$ is normally distributed with 0 mean and covariance matrix $\\Omega$\n",
    "*   Want to estimate parameters $\\theta = [\\Phi_0, \\Phi_1, ..., \\Phi_p, \\Omega]$\n",
    "*   Find parameters that maximise the conditional/average log-likelihood function: $\\frac{\\log L(\\theta)}{T-p}-\\frac{N}{2} - \\frac{1}{2}\\log |\\Omega|-\\frac{1}{2(T-p)}\\sum^T_{t=p+1}u_t'\\Omega^{-1}u_t$\n",
    "*   Hence, the MLE estimates for our parameters are $\\hat \\theta_{MLE} = \\arg \\min_\\theta \\frac{\\log  L(\\theta)}{T-p}$\n",
    "*   Equivalence Result: estimator equivalent to OLS estimator\n",
    "*   The MLE estimator of the error covariance matrix terms are $\\frac{1}{T}\\sum^T_{t=1}\\hat u_{it} \\hat u_{jt}$\n",
    "*   Log likelihood can be intepreted as the overall residual sum of squares for the system in a multivariate setting\n",
    "\n",
    "\n",
    "\n",
    "\n",
    "\n",
    "\n",
    "\n",
    "\n",
    "\n",
    "\n"
   ]
  },
  {
   "cell_type": "markdown",
   "metadata": {
    "colab_type": "text",
    "id": "YKepIFw1s7gk"
   },
   "source": [
    "### 3. VAR Lag Testing"
   ]
  },
  {
   "cell_type": "markdown",
   "metadata": {
    "colab_type": "text",
    "id": "wTwL0e64cTtH"
   },
   "source": [
    "Use AIC, SC, HQ, measures that find the the highest R-squared or log-likelihood while penalising additional lags.\n",
    "\n",
    "$AIC = -2\\frac{\\log L(\\hat \\theta)}{T-p} + 2\\frac {K}{T-p}$\n",
    "\n",
    "$SC = -2\\frac{\\log L(\\hat \\theta)}{T-p} + 2\\frac {\\log (T-p) K}{T-p}$\n",
    "\n",
    "$HQ = -2\\frac{\\log L(\\hat \\theta)}{T-p} + 2\\frac {\\log(\\log(T-p))K}{T-p}$\n",
    "\n",
    "Where $K$ tells us the number of estimated parameters. Optimal lag structure minimises these statistics.\n",
    "\n",
    "Including redundant variables could give more information, but issues can result in inefficient parameter estimates (i.e. higher standard errors), less precise forecasts (i.e. higher RMSE).\n",
    "\n",
    "Information statistic properties:\n",
    "*   SC and HQ are consistent tests (choose correct lag structure as $T -> \\infty$)\n",
    "*   In small samples, SC tends to be too conservative and choose too short of a lag length\n",
    "*   Hence, HQ is generally the best choice\n",
    "\n"
   ]
  },
  {
   "cell_type": "markdown",
   "metadata": {
    "colab_type": "text",
    "id": "4Xty_1Yas-nV"
   },
   "source": [
    "### 4. VAR Forecasting"
   ]
  },
  {
   "cell_type": "markdown",
   "metadata": {
    "colab_type": "text",
    "id": "8yQGnP0Gdy4v"
   },
   "source": [
    "One advantage of ex-post forecasting is it proivides an alternative lag-testing approach. i.e. use RMSE vs AIC, SIC, HQ."
   ]
  }
 ],
 "metadata": {
  "kernelspec": {
   "display_name": "Python 3.8.0 64-bit",
   "metadata": {
    "interpreter": {
     "hash": "2d04f120ef9720f2488447f7ea0097f595927923387bca235b2adec1aebe5795"
    }
   },
   "name": "python3"
  },
  "language_info": {
   "name": "python",
   "nbconvert_exporter": "python",
   "version": "3.8.0"
  },
  "orig_nbformat": 2
 },
 "nbformat": 4,
 "nbformat_minor": 2
}