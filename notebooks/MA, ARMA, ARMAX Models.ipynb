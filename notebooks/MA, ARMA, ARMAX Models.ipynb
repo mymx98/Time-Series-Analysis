{
 "cells": [
  {
   "cell_type": "markdown",
   "metadata": {
    "colab_type": "text",
    "id": "Kw62UepmGLN6"
   },
   "source": [
    "### Week 3 - MA and ARMA Models"
   ]
  },
  {
   "cell_type": "code",
   "execution_count": null,
   "metadata": {},
   "outputs": [],
   "source": [
    "import numpy as np\r\n",
    "import pandas as pd\r\n",
    "from pandas import datetime\r\n",
    "import matplotlib.pyplot as plt\r\n",
    "\r\n",
    "from statsmodels.graphics.tsaplots import plot_acf\r\n",
    "from statsmodels.graphics.tsaplots import plot_pacf\r\n",
    "import statsmodels.api as sm\r\n",
    "from statsmodels.tsa.stattools import adfuller\r\n",
    "from statsmodels.tsa.stattools import kpss\r\n",
    "\r\n",
    "from sklearn.metrics import mean_absolute_error\r\n",
    "from sklearn.metrics import mean_squared_error\r\n",
    "\r\n",
    "from math import sqrt"
   ]
  },
  {
   "cell_type": "markdown",
   "metadata": {
    "colab_type": "text",
    "id": "tRUIFFSRGNgB"
   },
   "source": [
    "### 1. MA Model Specification"
   ]
  },
  {
   "cell_type": "markdown",
   "metadata": {
    "colab_type": "text",
    "id": "W3St4vXYGP2X"
   },
   "source": [
    "Model where you regress a variable against its current error and past error term. MA(1) model is:\n",
    "\n",
    "$y_t = \\phi_0 + u_t + \\theta_1 u_{t-1}$\n",
    "\n",
    "Again error term normally distributed with zero mean, constant variance and zero autocovariance.\n",
    "\n",
    "$u_t = N(0,\\sigma^2_u)$\n",
    "\n",
    "MA(q) model is:\n",
    "\n",
    "$y_t = \\phi_0 + u_t + \\theta_1 u_{t-1} + ... \\theta_q u_{t-q}$\n",
    "\n",
    "Note: p is lags for AR terms, q is lags for MA terms."
   ]
  },
  {
   "cell_type": "markdown",
   "metadata": {
    "colab_type": "text",
    "id": "lB4H5iDmGW5e"
   },
   "source": [
    "### 2. Benefits of MA Models - Turning into its AR Form (Given Stationarity Assumption)"
   ]
  },
  {
   "cell_type": "markdown",
   "metadata": {
    "colab_type": "text",
    "id": "zcCAy1p1GXqL"
   },
   "source": [
    "MA model can generate an infinite autogressive lag structure. Meaning if we wanted to generate a large-p AR(p) mode, we can do so even when the sample size is relatively small. It would be difficult to estimate the AR model but easy to estimate the MA model.\n",
    "\n",
    "Using lag operators, MA(1) model is:\n",
    "\n",
    "$y_t = \\phi_0 + u_t + \\theta_1 u_{t-1}$\n",
    "\n",
    "$y_t = \\phi_0 + (1+\\theta_1L) u_t$\n",
    "\n",
    "We multiply both sides by the inverse of $(1+\\theta_1L)$:\n",
    "\n",
    "$(1+\\theta_1L)^{-1} y_t = \\frac{\\phi_0}{(1+\\theta_1)} +  u_t$\n",
    "\n",
    "Question: why does the L do away?\n",
    "\n",
    "Given the assumption of stationarity ($|\\theta_1|<1$), this series follows a geometeric decaying progression that converges.\n",
    "\n",
    "$(1+\\theta_1L)^{-1} = 1 - \\theta_1 L + \\theta_1^2L^2 - ... + ...$\n",
    "\n",
    "This means the above result is:\n",
    "$(1 - \\theta_1 L + \\theta_1^2L^2 - ... + ...)y_t = \\frac{\\phi_0}{(1+\\theta_1)} +  u_t$\n",
    "\n",
    "Without lag operators:\n",
    "$y_t = \\frac{\\phi_0}{(1+\\theta_1)} + \\theta_1 y_{t-1} - \\theta^2_1 y_{t-2} + ... - ... + u_t$\n",
    "\n",
    "Here, given stationarity, a MA(1) model is the same as a restricted AR($\\infty$) model, where the AR parameters are restricted as:\n",
    "\n",
    "$\\phi_i = (-)^{i + 1} \\theta_1^i$\n",
    "\n",
    "\n",
    "\n",
    "\n"
   ]
  },
  {
   "cell_type": "markdown",
   "metadata": {
    "colab_type": "text",
    "id": "1CcIoisuLOuL"
   },
   "source": [
    "### 3. MA(1) Model Properties - Unconditional Mean"
   ]
  },
  {
   "cell_type": "markdown",
   "metadata": {
    "colab_type": "text",
    "id": "LwET2wobMGjB"
   },
   "source": [
    "MA(1) model is:\n",
    "\n",
    "$y_t = \\phi_0 + u_t + \\theta_1 u_{t-1}$\n",
    "\n",
    "1. Take unconditional mean:\n",
    "\n",
    "$E(y_t) = \\phi_0 + E(u_t) + \\theta_1 E(u_{t-1})$\n",
    "\n",
    "2. Property of error term having zero mean:\n",
    "\n",
    "$\\mu = E(y_t) = \\phi_0$"
   ]
  },
  {
   "cell_type": "markdown",
   "metadata": {
    "colab_type": "text",
    "id": "5o4LdmdgMfuR"
   },
   "source": [
    "### 4. MA(1) Model Properties - Unconditional Variance"
   ]
  },
  {
   "cell_type": "markdown",
   "metadata": {
    "colab_type": "text",
    "id": "azBz1ik5Mg2h"
   },
   "source": [
    "MA(1) model is:\n",
    "\n",
    "$y_t = \\phi_0 + u_t + \\theta_1 u_{t-1}$\n",
    "\n",
    "1. Mean form:\n",
    "\n",
    "$\\mu = E(y_t) = \\phi_0$\n",
    "\n",
    "2. Subtract MA(1) model from mean form:\n",
    "\n",
    "$y_t - \\mu = u_t + \\theta_1 u_{t-1}$\n",
    "\n",
    "3. Square both sides:\n",
    "\n",
    "$(y_t - \\mu)^2 = u^2_t + \\theta^2_1 u^2_{t-1} + 2\\theta_1 u_t u_{t-1}$\n",
    "\n",
    "4. Take unconditional expectation:\n",
    "\n",
    "$\\gamma_0 = E((y_t - \\mu)^2) = E(u^2_t) + \\theta^2_1 E(u^2_{t-1}) + 2\\theta_1 E(u_t u_{t-1})$\n",
    "\n",
    "5. Remember $u_t$ is independent of $u_{t-1}$:\n",
    "\n",
    "$\\gamma_0 = E((y_t - \\mu)^2) = E(u^2_t) + \\theta^2_1 E(u^2_{t-1})$\n",
    "\n",
    "6. Apply homoskedastic error variance property:\n",
    "\n",
    "$\\sigma^2_u = E(u^2_t) = E(u^2_{t-1})$\n",
    "\n",
    "$\\gamma_0 = E((y_t - \\mu)^2) = \\sigma^2_u + \\theta^2_1 \\sigma^2_u = (1 + \\theta^2_1)\\sigma^2_u$\n",
    "\n",
    "\n"
   ]
  },
  {
   "cell_type": "markdown",
   "metadata": {
    "colab_type": "text",
    "id": "Br8At6wrODrh"
   },
   "source": [
    "### 5. MA(1) Model Properties - First Order Autocovariance"
   ]
  },
  {
   "cell_type": "markdown",
   "metadata": {
    "colab_type": "text",
    "id": "it0gmRdnOwIo"
   },
   "source": [
    "First Order Autocovariance defined as:\n",
    "\n",
    "$\\gamma_1 = E((y_t - \\mu)(y_{t-1} - \\mu))$\n",
    "\n",
    "1. Consider mean deviation form:\n",
    "\n",
    "$y_t - \\mu = u_t + \\theta_1 u_{t-1}$\n",
    "\n",
    "2. Substitute in equation:\n",
    "\n",
    "$\\gamma_1 = E((u_t + \\theta_1 u_{t-1})(u_{t-1} + \\theta_1 u_{t-2}))$\n",
    "\n",
    "3. Expand:\n",
    "\n",
    "$\\gamma_1 = E(u_tu_{t-1} + \\theta_1 u_tu_{t-2} + \\theta_1 u^2_{t-1} + \\theta^2_1u_{t-1}u_{t-2})$\n",
    "\n",
    "4. Apply fact that $u_t$ is independent to past lags:\n",
    "\n",
    "$\\gamma_1 = \\theta_1 E(u^2_{t-1}) = \\theta_1 \\sigma^2_u$\n"
   ]
  },
  {
   "cell_type": "markdown",
   "metadata": {
    "colab_type": "text",
    "id": "qGLnqPerQCFj"
   },
   "source": [
    "### 6. Second Order and $p$th Order Autocovariance (Check for MA(1) Model!)"
   ]
  },
  {
   "cell_type": "markdown",
   "metadata": {
    "colab_type": "text",
    "id": "RKu5X53LQHGD"
   },
   "source": [
    "Second Order Autocovariance defined as:\n",
    "\n",
    "$\\gamma_2 = E((y_t - \\mu)(y_{t-2} - \\mu))$\n",
    "\n",
    "1. Consider mean deviation form:\n",
    "\n",
    "$y_t - \\mu = u_t + \\theta_1 u_{t-1}$\n",
    "\n",
    "2. Substitute in equation:\n",
    "\n",
    "$\\gamma_2 = E((u_t + \\theta_1 u_{t-1})(u_{t-2} + \\theta_1 u_{t-3}))$\n",
    "\n",
    "3. Expand:\n",
    "\n",
    "$\\gamma_2 = E(u_tu_{t-2} + \\theta_1 u_tu_{t-3} + \\theta_1 u_{t-1}u_{t-2} + \\theta^2_1u_{t-1}u_{t-3})$\n",
    "\n",
    "4. Apply fact that $u_t$ is independent to past lags:\n",
    "\n",
    "$\\gamma_2 = 0$\n",
    "\n",
    "$p$th Order Autocovariance:\n",
    "\n",
    "$\\gamma_p = E((y_t - \\mu)(y_{t-p} - \\mu))$\n",
    "\n",
    "For the MA(1) model:\n",
    "\n",
    "$\\gamma_p = 0$\n"
   ]
  },
  {
   "cell_type": "markdown",
   "metadata": {
    "colab_type": "text",
    "id": "L36U002QRO32"
   },
   "source": [
    "### 7. First Order and $p$th Order Autocorrelation for MA(1) Model"
   ]
  },
  {
   "cell_type": "markdown",
   "metadata": {
    "colab_type": "text",
    "id": "W_G3GqEuRVhW"
   },
   "source": [
    "First Order Autocorrelation is:\n",
    "\n",
    "$\\rho_1 = \\frac{\\gamma_1}{\\gamma_0} = \\frac{\\theta_1 \\sigma^2_u}{(1 + \\theta^2_1)\\sigma^2_u} = \\frac{\\theta_1 }{(1 + \\theta^2_1)}$\n",
    "\n",
    "Second Order and $p$th Order Autocovariance is 0.\n",
    "\n",
    "This implies show that the ACF for a MA(1) has a spike at lag 1."
   ]
  },
  {
   "cell_type": "markdown",
   "metadata": {
    "colab_type": "text",
    "id": "W-M-TpXyScRp"
   },
   "source": [
    "### 8. MA Model Estimation"
   ]
  },
  {
   "cell_type": "markdown",
   "metadata": {
    "colab_type": "text",
    "id": "27Wc-iPFSexx"
   },
   "source": [
    "Assume error term is distributed as $N(0,\\sigma^2_u)$, the MA parameters requires to be estimated are:\n",
    "\n",
    "$\\Theta = {\\phi_0, \\theta_1, \\theta_2, ..., \\theta_q, \\sigma^2_u}$\n",
    "\n",
    "We estimate these using maximum likelihood, due to the moving average component.\n",
    "\n",
    "We aim to choose parameters that maximise the following log likelihood function:\n",
    "\n",
    "$\\log L = -\\frac{1}{2}\\log 2\\pi - -\\frac{1}{2}\\log\\sigma^2_u - \\frac{1}{2\\sigma^2_uT} \\sum_{t=1}^{T} u^2_t$\n",
    "\n",
    "Where $u_t = y_t - \\phi_0 - \\theta_1u_{t-1} - \\theta_2u_{t-2} ...-\\theta_q u_{t-q}$"
   ]
  },
  {
   "cell_type": "markdown",
   "metadata": {
    "colab_type": "text",
    "id": "RLwPgwQvWO29"
   },
   "source": [
    "**Example: Unemployment Rate**"
   ]
  },
  {
   "cell_type": "code",
   "execution_count": null,
   "metadata": {
    "colab": {
     "base_uri": "https://localhost:8080/",
     "height": 479
    },
    "colab_type": "code",
    "executionInfo": {
     "elapsed": 508,
     "status": "error",
     "timestamp": 1570240996216,
     "user": {
      "displayName": "Max Ruan",
      "photoUrl": "",
      "userId": "18331083944507779933"
     },
     "user_tz": -600
    },
    "id": "vJPZNMhAWfAs",
    "outputId": "fe61b227-f0ee-4fcf-ee5c-8f183225e388"
   },
   "outputs": [
    {
     "data": {
      "text/html": "<div>\n<style scoped>\n    .dataframe tbody tr th:only-of-type {\n        vertical-align: middle;\n    }\n\n    .dataframe tbody tr th {\n        vertical-align: top;\n    }\n\n    .dataframe thead th {\n        text-align: right;\n    }\n</style>\n<table border=\"1\" class=\"dataframe\">\n  <thead>\n    <tr style=\"text-align: right;\">\n      <th></th>\n      <th>Date</th>\n      <th>CONS</th>\n      <th>NGDP</th>\n      <th>MONEY</th>\n      <th>PRICE</th>\n      <th>SHORT</th>\n      <th>LONG</th>\n      <th>URATE</th>\n      <th>WAGE</th>\n      <th>INVEST</th>\n    </tr>\n  </thead>\n  <tbody>\n    <tr>\n      <th>0</th>\n      <td>1969-07-01</td>\n      <td>53230000000.00</td>\n      <td>8845000000.00</td>\n      <td>14200000000.00</td>\n      <td>8.82</td>\n      <td>5.90</td>\n      <td>5.80</td>\n      <td>1.70</td>\n      <td>NaN</td>\n      <td>18026000000.00</td>\n    </tr>\n    <tr>\n      <th>1</th>\n      <td>1969-10-01</td>\n      <td>53980000000.00</td>\n      <td>9061000000.00</td>\n      <td>14500000000.00</td>\n      <td>8.82</td>\n      <td>5.65</td>\n      <td>5.88</td>\n      <td>1.90</td>\n      <td>NaN</td>\n      <td>18334000000.00</td>\n    </tr>\n    <tr>\n      <th>2</th>\n      <td>1970-01-01</td>\n      <td>54361000000.00</td>\n      <td>9285000000.00</td>\n      <td>14700000000.00</td>\n      <td>8.92</td>\n      <td>6.42</td>\n      <td>5.99</td>\n      <td>1.60</td>\n      <td>NaN</td>\n      <td>18093000000.00</td>\n    </tr>\n    <tr>\n      <th>3</th>\n      <td>1970-04-01</td>\n      <td>54996000000.00</td>\n      <td>9642000000.00</td>\n      <td>15000000000.00</td>\n      <td>9.01</td>\n      <td>8.80</td>\n      <td>6.88</td>\n      <td>1.70</td>\n      <td>NaN</td>\n      <td>18502000000.00</td>\n    </tr>\n    <tr>\n      <th>4</th>\n      <td>1970-07-01</td>\n      <td>55703000000.00</td>\n      <td>9705000000.00</td>\n      <td>15000000000.00</td>\n      <td>9.10</td>\n      <td>6.85</td>\n      <td>6.88</td>\n      <td>1.70</td>\n      <td>NaN</td>\n      <td>18324000000.00</td>\n    </tr>\n  </tbody>\n</table>\n</div>",
      "text/plain": "        Date           CONS          NGDP          MONEY  PRICE  SHORT  LONG  \\\n0 1969-07-01 53230000000.00 8845000000.00 14200000000.00   8.82   5.90  5.80   \n1 1969-10-01 53980000000.00 9061000000.00 14500000000.00   8.82   5.65  5.88   \n2 1970-01-01 54361000000.00 9285000000.00 14700000000.00   8.92   6.42  5.99   \n3 1970-04-01 54996000000.00 9642000000.00 15000000000.00   9.01   8.80  6.88   \n4 1970-07-01 55703000000.00 9705000000.00 15000000000.00   9.10   6.85  6.88   \n\n   URATE  WAGE         INVEST  \n0   1.70   NaN 18026000000.00  \n1   1.90   NaN 18334000000.00  \n2   1.60   NaN 18093000000.00  \n3   1.70   NaN 18502000000.00  \n4   1.70   NaN 18324000000.00  "
     },
     "output_type": "unknown"
    }
   ],
   "source": [
    "def parser(x):\r\n",
    "    return datetime.strptime(x, '%Y-%m-%d')\r\n",
    "series = pd.read_csv('../data/raw/macro.csv', parse_dates = [0], date_parser = parser)\r\n",
    "pd.options.display.float_format = '{:.2f}'.format\r\n",
    "series.head()"
   ]
  },
  {
   "cell_type": "code",
   "execution_count": null,
   "metadata": {
    "colab": {
     "base_uri": "https://localhost:8080/",
     "height": 357
    },
    "colab_type": "code",
    "executionInfo": {
     "elapsed": 499,
     "status": "ok",
     "timestamp": 1570171210260,
     "user": {
      "displayName": "Max Ruan",
      "photoUrl": "",
      "userId": "18331083944507779933"
     },
     "user_tz": -600
    },
    "id": "Lnk2BwOgXDwj",
    "outputId": "4608114e-e6e4-4c8c-fa2e-962bb0c278c0"
   },
   "outputs": [
    {
     "data": {
      "application/x.notebook.stream": "                               SARIMAX Results                                \n==============================================================================\nDep. Variable:                  URATE   No. Observations:                  199\nModel:                 ARIMA(0, 0, 1)   Log Likelihood                -306.881\nDate:                Fri, 10 Jun 2022   AIC                            619.762\nTime:                        12:22:45   BIC                            629.642\nSample:                             0   HQIC                           623.761\n                                - 199                                         \nCovariance Type:                  opg                                         \n==============================================================================\n                 coef    std err          z      P>|z|      [0.025      0.975]\n------------------------------------------------------------------------------\nconst          6.2083      0.155     40.165      0.000       5.905       6.511\nma.L1          0.9999      5.254      0.190      0.849      -9.298      11.298\nsigma2         1.2459      6.529      0.191      0.849     -11.550      14.042\n===================================================================================\nLjung-Box (L1) (Q):                 158.98   Jarque-Bera (JB):                 0.18\nProb(Q):                              0.00   Prob(JB):                         0.92\nHeteroskedasticity (H):               0.16   Skew:                            -0.02\nProb(H) (two-sided):                  0.00   Kurtosis:                         3.14\n===================================================================================\n\nWarnings:\n[1] Covariance matrix calculated using the outer product of gradients (complex-step).\n"
     },
     "output_type": "unknown"
    },
    {
     "data": {
      "application/x.notebook.stream": "C:\\Users\\Max Ruan\\AppData\\Local\\Programs\\Python\\Python38\\lib\\site-packages\\statsmodels\\tsa\\statespace\\sarimax.py:978: UserWarning: Non-invertible starting MA parameters found. Using zeros as starting parameters.\n  warn('Non-invertible starting MA parameters found.'\n"
     },
     "output_type": "unknown"
    }
   ],
   "source": [
    "Y = series['URATE']\r\n",
    "model = ARIMA(Y, order=(0, 0, 1))\r\n",
    "model_fit = model.fit()\r\n",
    "print(model_fit.summary())"
   ]
  },
  {
   "cell_type": "code",
   "execution_count": null,
   "metadata": {
    "colab": {
     "base_uri": "https://localhost:8080/",
     "height": 411
    },
    "colab_type": "code",
    "executionInfo": {
     "elapsed": 723,
     "status": "error",
     "timestamp": 1570171463030,
     "user": {
      "displayName": "Max Ruan",
      "photoUrl": "",
      "userId": "18331083944507779933"
     },
     "user_tz": -600
    },
    "id": "dhwMz6G8gayE",
    "outputId": "e8bb0ca1-0b50-4bb7-a4c1-7f6b2ec794c1"
   },
   "outputs": [
    {
     "data": {
      "application/x.notebook.stream": "                               SARIMAX Results                                \n==============================================================================\nDep. Variable:                  URATE   No. Observations:                  199\nModel:                 ARIMA(0, 0, 2)   Log Likelihood                -226.033\nDate:                Fri, 10 Jun 2022   AIC                            460.065\nTime:                        12:22:45   BIC                            473.239\nSample:                             0   HQIC                           465.397\n                                - 199                                         \nCovariance Type:                  opg                                         \n==============================================================================\n                 coef    std err          z      P>|z|      [0.025      0.975]\n------------------------------------------------------------------------------\nconst          6.1916      0.169     36.641      0.000       5.860       6.523\nma.L1          1.4435      0.047     30.545      0.000       1.351       1.536\nma.L2          0.8201      0.047     17.311      0.000       0.727       0.913\nsigma2         0.5586      0.052     10.789      0.000       0.457       0.660\n===================================================================================\nLjung-Box (L1) (Q):                  79.17   Jarque-Bera (JB):                 1.24\nProb(Q):                              0.00   Prob(JB):                         0.54\nHeteroskedasticity (H):               0.19   Skew:                             0.03\nProb(H) (two-sided):                  0.00   Kurtosis:                         3.38\n===================================================================================\n\nWarnings:\n[1] Covariance matrix calculated using the outer product of gradients (complex-step).\n"
     },
     "output_type": "unknown"
    },
    {
     "data": {
      "application/x.notebook.stream": "C:\\Users\\Max Ruan\\AppData\\Local\\Programs\\Python\\Python38\\lib\\site-packages\\statsmodels\\tsa\\statespace\\sarimax.py:978: UserWarning: Non-invertible starting MA parameters found. Using zeros as starting parameters.\n  warn('Non-invertible starting MA parameters found.'\n"
     },
     "output_type": "unknown"
    }
   ],
   "source": [
    "Y = series['URATE']\r\n",
    "model = ARIMA(Y, order=(0,0, 2))\r\n",
    "model_fit = model.fit()\r\n",
    "print(model_fit.summary())"
   ]
  },
  {
   "cell_type": "markdown",
   "metadata": {
    "colab_type": "text",
    "id": "j6jHxNSYhXgH"
   },
   "source": [
    "### 9. MA Model Forecasting - Weakness with MA Models\r\n",
    "\r\n"
   ]
  },
  {
   "cell_type": "markdown",
   "metadata": {
    "colab_type": "text",
    "id": "6aoQ6jH9haSX"
   },
   "source": [
    "We want to know $y_{t+1}$.\n",
    "\n",
    "MA model tells us: $y_{t+1} = \\phi_0 + u_{t+1} + \\theta_1u_t$\n",
    "\n",
    "We have fitted values for $\\phi_0$ and $\\theta_1u_t$ and our expectation of $u_{t+1}$ is 0:\n",
    "\n",
    "$\\hat y_{t+1} = \\hat \\phi_0 + \\hat \\theta_1u_t$\n",
    "\n",
    "Note for 2-step ahead and further forecasts, we only get $\\hat \\phi_0$:\n",
    "\n",
    "$\\hat y_{t+2} = \\hat \\phi_0 + \\hat \\theta_1u_{t+1} = \\hat \\phi_0$\n",
    "\n",
    "This is simply a property of the MA(1) model.\n",
    "\n",
    "In general, for a MA(q) model, the forecasts for q + 1 periods ahead and onwards are all the same. This property commonly referred to having finite memory.\n",
    "\n",
    "In contrast, AR models have infinite memory."
   ]
  },
  {
   "cell_type": "markdown",
   "metadata": {
    "colab_type": "text",
    "id": "c-gkGdRLincw"
   },
   "source": [
    "### 10. ARMA Models"
   ]
  },
  {
   "cell_type": "markdown",
   "metadata": {
    "colab_type": "text",
    "id": "YSqYnMi_iqG_"
   },
   "source": [
    "ARMA(p,q) model can be used to allow for both AR and MA dynamics:\n",
    "\n",
    "$y_t = \\phi_0 + \\phi_1y_{t-1} + \\phi_2y_{t-2} + ... + \\phi_p y_{t-p} + u_t + \\theta_1 u_{t-1} + \\theta_2 u_{t-2} + ... + \\theta_q u_{t - q}$\n",
    "\n",
    "Written more compactly using lag operators:\n",
    "\n",
    "$y_t = \\phi_1 y_{t-1} - ... - \\phi_p y_{t-p} = \\phi_0 + u_t + \\theta_1 u_{t-1} + ... + \\theta_q u_{t-q}$\n",
    "\n",
    "$(1=\\phi_1 L - ... - \\phi_p L^p)y_t = (1 + \\theta_1 L + ... + \\theta_q L^q)u_t$"
   ]
  },
  {
   "cell_type": "markdown",
   "metadata": {
    "colab_type": "text",
    "id": "wJMTbJFYozPF"
   },
   "source": [
    "### 11. Special Case ARMA(1,1) "
   ]
  },
  {
   "cell_type": "markdown",
   "metadata": {
    "colab_type": "text",
    "id": "KgdhzkbVswif"
   },
   "source": [
    "\n",
    "Remember MA(1) process can be shown to have infinite AR representation given stationarity. ARMA process can be the same, basically MA(1) given $\\phi_1 = 0$."
   ]
  },
  {
   "cell_type": "markdown",
   "metadata": {
    "colab_type": "text",
    "id": "2W35f8tXpMeA"
   },
   "source": [
    "### 12. ARMA Model Estimation"
   ]
  },
  {
   "cell_type": "markdown",
   "metadata": {
    "colab_type": "text",
    "id": "VOwl2HqlpPVc"
   },
   "source": [
    "Same as MA process estimation, use maximum likelihood estimation.\n",
    "\n",
    "We estimate the ARMA model perameters:\n",
    "\n",
    "Assume error term is distributed as $N(0,\\sigma^2_u)$, the MA parameters requires to be estimated are:\n",
    "\n",
    "$\\Theta = {\\phi_0, \\theta_1, \\theta_2, ..., \\theta_q, \\sigma^2_u, \\phi_1, \\phi_2, ..., \\phi_p}$\n",
    "\n",
    "We aim to choose parameters that maximise the following log likelihood function (same as MA L-L function):\n",
    "\n",
    "$\\log L = -\\frac{1}{2}\\log 2\\pi - -\\frac{1}{2}\\log\\sigma^2_u - \\frac{1}{2\\sigma^2_uT} \\sum_{t=1}^{T} u^2_t$\n",
    "\n",
    "Where $u_t = y_t - \\phi_0 - \\theta_1u_{t-1} - \\theta_2u_{t-2} ...-\\theta_q u_{t-q} - \\phi_1 y_{t-1} - ... - \\phi_p y_{t-p}$"
   ]
  },
  {
   "cell_type": "code",
   "execution_count": null,
   "metadata": {
    "colab": {
     "base_uri": "https://localhost:8080/",
     "height": 231
    },
    "colab_type": "code",
    "executionInfo": {
     "elapsed": 679,
     "status": "error",
     "timestamp": 1570240924971,
     "user": {
      "displayName": "Max Ruan",
      "photoUrl": "",
      "userId": "18331083944507779933"
     },
     "user_tz": -600
    },
    "id": "JDk59wIFpvUh",
    "outputId": "61f001b5-3fc2-4409-9c8b-70e88eb0de23"
   },
   "outputs": [
    {
     "data": {
      "application/x.notebook.stream": "                               SARIMAX Results                                \n==============================================================================\nDep. Variable:                  URATE   No. Observations:                  199\nModel:                 ARIMA(1, 0, 1)   Log Likelihood                 -35.475\nDate:                Fri, 10 Jun 2022   AIC                             78.950\nTime:                        12:22:45   BIC                             92.123\nSample:                             0   HQIC                            84.282\n                                - 199                                         \nCovariance Type:                  opg                                         \n==============================================================================\n                 coef    std err          z      P>|z|      [0.025      0.975]\n------------------------------------------------------------------------------\nconst          4.9382      1.539      3.209      0.001       1.922       7.954\nar.L1          0.9869      0.011     91.683      0.000       0.966       1.008\nma.L1          0.3995      0.057      6.981      0.000       0.287       0.512\nsigma2         0.0818      0.005     16.493      0.000       0.072       0.091\n===================================================================================\nLjung-Box (L1) (Q):                   1.46   Jarque-Bera (JB):               201.38\nProb(Q):                              0.23   Prob(JB):                         0.00\nHeteroskedasticity (H):               0.22   Skew:                             1.10\nProb(H) (two-sided):                  0.00   Kurtosis:                         7.41\n===================================================================================\n\nWarnings:\n[1] Covariance matrix calculated using the outer product of gradients (complex-step).\n"
     },
     "output_type": "unknown"
    }
   ],
   "source": [
    "Y = series['URATE']\r\n",
    "model = ARIMA(Y, order=(1, 0, 1))\r\n",
    "model_fit = model.fit()\r\n",
    "print(model_fit.summary())"
   ]
  },
  {
   "cell_type": "markdown",
   "metadata": {
    "colab_type": "text",
    "id": "rYZAvvQYqaFT"
   },
   "source": [
    "### 13. ARMA Model Forecasting"
   ]
  },
  {
   "cell_type": "markdown",
   "metadata": {
    "colab_type": "text",
    "id": "f_cxt8_vqdwa"
   },
   "source": [
    "Same as before.\n",
    "\n",
    "ARMA models have long memory due to the AR component of the model.\n",
    "\n",
    "With ex-post forecasts, we can compare model performance by looking at the RMSE (lower is better)."
   ]
  },
  {
   "cell_type": "markdown",
   "metadata": {
    "colab_type": "text",
    "id": "mpC7u5vzqt-8"
   },
   "source": [
    "### 14. Pooling Forecasts"
   ]
  },
  {
   "cell_type": "markdown",
   "metadata": {
    "colab_type": "text",
    "id": "j8sgV8eRrbxB"
   },
   "source": [
    "Instead of choosing between models and selecting the best one based on lowest RMSE.\n",
    "\n",
    "You can combine and pool the models.\n",
    "\n",
    "You have various model forecasts of $\\hat y_t$ and you  combine them by assigning a weight to each model $\\hat y_t$ and the weights add to 1.\n",
    "\n",
    "You can choose weights equally/unweighted, weighted by MSE, or by OLS regression.\n",
    "\n",
    "By pooling forecasts from an AR and MA model, this effectively generates forecasts for an ARMA model.\n",
    "\n",
    "Has no thereotical justification, only statistical performance benefits. "
   ]
  },
  {
   "cell_type": "markdown",
   "metadata": {
    "colab_type": "text",
    "id": "dnBqtmvDsEhd"
   },
   "source": [
    "### 15. ARMAX Model"
   ]
  },
  {
   "cell_type": "markdown",
   "metadata": {
    "colab_type": "text",
    "id": "GIAvkipksHoO"
   },
   "source": [
    "Simply adds an explanatory variable to the ARMA model.\n",
    "\n",
    "Estimation down by nonlinear least squares.\n",
    "\n",
    "Forecasting requires some estimate or forecast or scenario analysis of your exogenous variables as well.\n",
    "\n",
    "Otherwise, just do a multivariate time series and model all variables together."
   ]
  }
 ],
 "metadata": {
  "kernelspec": {
   "display_name": "Python 3.8.0 64-bit",
   "metadata": {
    "interpreter": {
     "hash": "2d04f120ef9720f2488447f7ea0097f595927923387bca235b2adec1aebe5795"
    }
   },
   "name": "python3"
  },
  "language_info": {
   "name": "python",
   "nbconvert_exporter": "python",
   "version": "3.8.0"
  },
  "orig_nbformat": 2
 },
 "nbformat": 4,
 "nbformat_minor": 2
}