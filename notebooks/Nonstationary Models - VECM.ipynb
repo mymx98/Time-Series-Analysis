{
 "cells": [
  {
   "cell_type": "markdown",
   "metadata": {
    "colab_type": "text",
    "id": "qg9_eUPkfZBj"
   },
   "source": [
    "### Week 9 - Nonstationary Models: VECM"
   ]
  },
  {
   "cell_type": "markdown",
   "metadata": {
    "colab_type": "text",
    "id": "d7QQGcV6fcrk"
   },
   "source": [
    "### 1. Motivation"
   ]
  },
  {
   "cell_type": "markdown",
   "metadata": {
    "colab_type": "text",
    "id": "5AJl8LR36yHS"
   },
   "source": [
    "\n",
    "\n",
    "*   We did unit root tests to test if variables are I(1) or I(2)\n",
    "*   We did cointegration tests to see if there is long-run cointegrating relationships i.e. error is I(0), etc.\n",
    "*   Now we aim to estimate this cointegrating equation, called a Vector Error-Correction Model or VECM\n",
    "\n"
   ]
  },
  {
   "cell_type": "markdown",
   "metadata": {
    "colab_type": "text",
    "id": "Y3ApyZXAff0D"
   },
   "source": [
    "### 2. Vector Error-Correction Model "
   ]
  },
  {
   "cell_type": "markdown",
   "metadata": {
    "colab_type": "text",
    "id": "GVfg9h7w0SIx"
   },
   "source": [
    "\n",
    "\n",
    "*   Given a shock in the error term, there are 3 possible dynamics paths: variable y1 adjusts, variable y2 adjusts, or both adjust such that the long-term relationship holds\n",
    "*   The size of the disequilibrium is thus the error term\n",
    "*   The error correction model tells us that the change of the variable / theri dynamic time paths are determined by the size of the equilibrium and a 'speed of adjustment' variable\n",
    "\n",
    "$e_t = y_{1t} - \\beta_0 + \\beta_1 y_{2t}$\n",
    "\n",
    "$\\Delta y_{1t+1} = \\alpha_1 + \\gamma_1 e_t + v_{1t+1}$\n",
    "\n",
    "$\\Delta y_{2t+1} = \\alpha_2 + \\gamma_2 e_t + v_{2t+1}$\n",
    "\n",
    "The gamma parameters represent the 'error-correction' parameters. For example if $\\beta_1 > 0$ (positively sloped long-run equation), if $\\gamma < 0$, then $y_{1t}$ adjusts downwards.\n",
    "\n",
    "\n"
   ]
  },
  {
   "cell_type": "markdown",
   "metadata": {
    "colab_type": "text",
    "id": "JpyBieEPfi0A"
   },
   "source": [
    "### 3. Estimation: Single Equation Methods"
   ]
  },
  {
   "cell_type": "markdown",
   "metadata": {
    "colab_type": "text",
    "id": "cITxOM541qwU"
   },
   "source": [
    "We need to estimate the following parameters:\n",
    "\n",
    "$\\theta = [\\beta_0,\\beta_1,\\alpha_1,\\alpha_2,\\gamma_1,\\gamma_2]$\n",
    "\n",
    "i.e. The long-run relationship, the speed of adjustment and the direction of the change.\n",
    "\n",
    "Single equation methods are based on OLS applied to each equation one at a time.\n",
    "*   Advantage: parameter estimates are consistent (super-consistent in the case of $\\beta_1$ i.e. at rate T, rest at rate square root T)\n",
    "*   Disadvantage: not asympotically efficent, because estimators not computed jointly\n",
    "\n",
    "Steps:\n",
    "1.   Regress $y_{1t}$ on $c, y_{2t}$ to obtain cointegrating parameters $\\beta_0, \\beta_1$ using OLS\n",
    "2.   Obtain time series of residuals $\\hat e_{t-1}$\n",
    "3.   Regress $\\Delta y_{1t}$ on $c, \\hat e_{t-1}$ to obtain first equation parameters $\\alpha_1, \\gamma_1$ using OLS\n",
    "3.   Regress $\\Delta y_{2t}$ on $c, \\hat e_{t-1}$ to obtain second equation parameters $\\alpha_2, \\gamma_2$ using OLS\n"
   ]
  },
  {
   "cell_type": "markdown",
   "metadata": {
    "colab_type": "text",
    "id": "mhV_oJZ5flca"
   },
   "source": [
    "### 4. Estimation: Systems Equation Methods"
   ]
  },
  {
   "cell_type": "markdown",
   "metadata": {
    "colab_type": "text",
    "id": "8r6WmIF6239A"
   },
   "source": [
    "To achieve asymptotic efficiency, all parameters are estimated jointly using a MLE known as the Johansen estimator.\n",
    "*   Can perform hypothesis tests on VECM parameters based on asymptotic normality\n",
    "\n",
    "Implementing the Johansen estimator:\n",
    "*   Specify error distribution of N-variance VECM, which we usually assume as multivariate normality, $v_t = (v_{1t},v_{2t},...,v_{Nt})' -> N(0,\\Omega)$\n",
    "*   $\\Omega = E(v_t v_t')$ is the covariance matrix of the VECM errors\n",
    "*   The average log-likelihood of the multivariate normal distribution is: $\\frac{\\log L(\\theta)}{T} = -\\frac{N}{2} - \\frac{1}{2}\\log |\\Omega|-\\frac{1}{2T}\\sum^T_{t=2} v_t' \\Omega^{-1} v_t$\n",
    "*   For a model, use the first VECM equation and substitute the error term from the long-run cointegrated equation, so we have only y variable terms, subtituting out errors\n",
    "*   We need to estimate the following parameters: $\\theta = [\\beta_0,\\beta_1,\\gamma_1,\\gamma_2, \\sigma^2_1, \\sigma^2_2, \\sigma_{12}]$\n",
    "*   Choose the unknown parameters to maximise the average log-likelihood\n",
    "\n",
    "In Eviews:\n",
    "*   Open VAR ... / Vector Error Correction\n",
    "*   Change lag structure to 0 lags , 0 0 \n",
    "*   We need more lag veriables to ensure VECM errors are white noise, which is required as assumption\n",
    "*   How we choose the lag structure, we obtain the restricted VAR, where if VAR lag structure is p, VECM lag structure is p - 1, hence we can determine this using information criteria for a lag length p for a VAR where the variables are expressed in levels provided the variables are cointegrated (if not, variables should be expressed in first differences)\n",
    "\n",
    "\n"
   ]
  },
  {
   "cell_type": "markdown",
   "metadata": {
    "colab_type": "text",
    "id": "O2c23tUyfoUo"
   },
   "source": [
    "### 5. Forecasting"
   ]
  }
 ],
 "metadata": {
  "kernelspec": {
   "display_name": "Python 3.8.0 64-bit",
   "metadata": {
    "interpreter": {
     "hash": "2d04f120ef9720f2488447f7ea0097f595927923387bca235b2adec1aebe5795"
    }
   },
   "name": "python3"
  },
  "language_info": {
   "name": "python",
   "nbconvert_exporter": "python",
   "version": "3.8.0"
  },
  "orig_nbformat": 2
 },
 "nbformat": 4,
 "nbformat_minor": 2
}