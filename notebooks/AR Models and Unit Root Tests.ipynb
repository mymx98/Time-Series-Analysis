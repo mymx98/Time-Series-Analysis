{
 "cells": [
  {
   "cell_type": "markdown",
   "metadata": {
    "colab_type": "text",
    "id": "6L8iPrZzp5R2"
   },
   "source": [
    "### Week 2 - AR Models (Specification, Estimation, Model Properties, Forecasting) and Unit Root Tests"
   ]
  },
  {
   "cell_type": "code",
   "execution_count": 1,
   "metadata": {},
   "outputs": [
    {
     "name": "stderr",
     "output_type": "stream",
     "text": [
      "<ipython-input-1-7b5c90766e69>:3: FutureWarning: The pandas.datetime class is deprecated and will be removed from pandas in a future version. Import from datetime module instead.\n",
      "  from pandas import datetime\n"
     ]
    }
   ],
   "source": [
    "import numpy as np\r\n",
    "import pandas as pd\r\n",
    "from pandas import datetime\r\n",
    "import matplotlib.pyplot as plt\r\n",
    "\r\n",
    "from statsmodels.graphics.tsaplots import plot_acf\r\n",
    "from statsmodels.graphics.tsaplots import plot_pacf\r\n",
    "import statsmodels.api as sm\r\n",
    "from statsmodels.tsa.stattools import adfuller\r\n",
    "from statsmodels.tsa.stattools import kpss\r\n",
    "\r\n",
    "from sklearn.metrics import mean_absolute_error\r\n",
    "from sklearn.metrics import mean_squared_error\r\n",
    "\r\n",
    "from math import sqrt"
   ]
  },
  {
   "cell_type": "markdown",
   "metadata": {
    "colab_type": "text",
    "id": "iabhlnIDJIYR"
   },
   "source": [
    "### 1. Autoregressive (AR) Models and Specification"
   ]
  },
  {
   "cell_type": "markdown",
   "metadata": {
    "colab_type": "text",
    "id": "kTBFgHmfJIYS"
   },
   "source": [
    "An autoregressive (AR) model means our explanatory variables are lags of the dependent variable. Motivation? If we believe a variables past values can tell us what values it will have in the future.\n",
    "\n",
    "i.e. $y_t = \\phi_0 + \\phi_1 y_{t-1} + u_t$.\n",
    "\n",
    "The disturbance term $u_t$ in the AR(1) model is assumed to have zero mean, constant variance (homoskedascity) and zero autocovariance. Also called a white noise process.\n",
    "\n",
    "If there is no 1st order autocorrelation i.e. $\\phi_1 = 0$, then the model is effectively a white noise process, where all of the randomness comes from this term.\n",
    "\n",
    "An AR(2) model is regressed by itself 1 period before and 2 periods before. Thus, an AR(p) model more generally speaking allows for p lags."
   ]
  },
  {
   "cell_type": "markdown",
   "metadata": {
    "colab_type": "text",
    "id": "w2c2ExUQusdh"
   },
   "source": [
    "**Example: Unemployment Rate**. We will look at the data and then define its 1 period lag and show them side by side. Note that the first observation is missing because of the shift, which means when we do regressions, we have 1 less sample in our sample size i.e. $T - 1$"
   ]
  },
  {
   "cell_type": "code",
   "execution_count": 2,
   "metadata": {
    "colab": {
     "base_uri": "https://localhost:8080/",
     "height": 204
    },
    "colab_type": "code",
    "executionInfo": {
     "elapsed": 699,
     "status": "ok",
     "timestamp": 1570163170089,
     "user": {
      "displayName": "Max Ruan",
      "photoUrl": "",
      "userId": "18331083944507779933"
     },
     "user_tz": -600
    },
    "id": "1QDAFw-Sx78m",
    "outputId": "8b330640-6c1b-4cba-8fbb-9781a89a0df9"
   },
   "outputs": [
    {
     "data": {
      "text/html": "<div>\n<style scoped>\n    .dataframe tbody tr th:only-of-type {\n        vertical-align: middle;\n    }\n\n    .dataframe tbody tr th {\n        vertical-align: top;\n    }\n\n    .dataframe thead th {\n        text-align: right;\n    }\n</style>\n<table border=\"1\" class=\"dataframe\">\n  <thead>\n    <tr style=\"text-align: right;\">\n      <th></th>\n      <th>Date</th>\n      <th>URATE</th>\n      <th>URATE(-1)</th>\n    </tr>\n  </thead>\n  <tbody>\n    <tr>\n      <th>0</th>\n      <td>1969-07-01</td>\n      <td>1.70</td>\n      <td>NaN</td>\n    </tr>\n    <tr>\n      <th>1</th>\n      <td>1969-10-01</td>\n      <td>1.90</td>\n      <td>1.70</td>\n    </tr>\n    <tr>\n      <th>2</th>\n      <td>1970-01-01</td>\n      <td>1.60</td>\n      <td>1.90</td>\n    </tr>\n    <tr>\n      <th>3</th>\n      <td>1970-04-01</td>\n      <td>1.70</td>\n      <td>1.60</td>\n    </tr>\n    <tr>\n      <th>4</th>\n      <td>1970-07-01</td>\n      <td>1.70</td>\n      <td>1.70</td>\n    </tr>\n  </tbody>\n</table>\n</div>",
      "text/plain": "        Date  URATE  URATE(-1)\n0 1969-07-01   1.70        NaN\n1 1969-10-01   1.90       1.70\n2 1970-01-01   1.60       1.90\n3 1970-04-01   1.70       1.60\n4 1970-07-01   1.70       1.70"
     },
     "execution_count": 2,
     "metadata": {},
     "output_type": "execute_result"
    }
   ],
   "source": [
    "def parser(x):\r\n",
    "    return datetime.strptime(x, '%Y-%m-%d')\r\n",
    "series = pd.read_csv('../data/raw/macro.csv', parse_dates = [0], date_parser = parser)\r\n",
    "pd.options.display.float_format = '{:.2f}'.format\r\n",
    "unemployment = pd.DataFrame()\r\n",
    "unemployment['Date'] = series['Date']\r\n",
    "unemployment['URATE'] = series['URATE']\r\n",
    "unemployment['URATE(-1)']= unemployment['URATE'].shift(1)\r\n",
    "unemployment.head()"
   ]
  },
  {
   "cell_type": "code",
   "execution_count": 3,
   "metadata": {
    "colab": {
     "base_uri": "https://localhost:8080/",
     "height": 204
    },
    "colab_type": "code",
    "executionInfo": {
     "elapsed": 573,
     "status": "ok",
     "timestamp": 1570163173385,
     "user": {
      "displayName": "Max Ruan",
      "photoUrl": "",
      "userId": "18331083944507779933"
     },
     "user_tz": -600
    },
    "id": "NvIekDYymybj",
    "outputId": "c31683f0-f650-4ab7-d17f-1ab9b0a32b8a"
   },
   "outputs": [
    {
     "data": {
      "text/html": "<div>\n<style scoped>\n    .dataframe tbody tr th:only-of-type {\n        vertical-align: middle;\n    }\n\n    .dataframe tbody tr th {\n        vertical-align: top;\n    }\n\n    .dataframe thead th {\n        text-align: right;\n    }\n</style>\n<table border=\"1\" class=\"dataframe\">\n  <thead>\n    <tr style=\"text-align: right;\">\n      <th></th>\n      <th>Date</th>\n      <th>URATE</th>\n      <th>URATE(-1)</th>\n    </tr>\n  </thead>\n  <tbody>\n    <tr>\n      <th>194</th>\n      <td>2018-01-01</td>\n      <td>5.52</td>\n      <td>5.46</td>\n    </tr>\n    <tr>\n      <th>195</th>\n      <td>2018-04-01</td>\n      <td>5.41</td>\n      <td>5.52</td>\n    </tr>\n    <tr>\n      <th>196</th>\n      <td>2018-07-01</td>\n      <td>5.19</td>\n      <td>5.41</td>\n    </tr>\n    <tr>\n      <th>197</th>\n      <td>2018-10-01</td>\n      <td>5.04</td>\n      <td>5.19</td>\n    </tr>\n    <tr>\n      <th>198</th>\n      <td>2019-01-01</td>\n      <td>5.02</td>\n      <td>5.04</td>\n    </tr>\n  </tbody>\n</table>\n</div>",
      "text/plain": "          Date  URATE  URATE(-1)\n194 2018-01-01   5.52       5.46\n195 2018-04-01   5.41       5.52\n196 2018-07-01   5.19       5.41\n197 2018-10-01   5.04       5.19\n198 2019-01-01   5.02       5.04"
     },
     "execution_count": 3,
     "metadata": {},
     "output_type": "execute_result"
    }
   ],
   "source": [
    "unemployment.tail()"
   ]
  },
  {
   "cell_type": "code",
   "execution_count": 4,
   "metadata": {
    "colab": {
     "base_uri": "https://localhost:8080/",
     "height": 298
    },
    "colab_type": "code",
    "executionInfo": {
     "elapsed": 741,
     "status": "ok",
     "timestamp": 1570163178956,
     "user": {
      "displayName": "Max Ruan",
      "photoUrl": "",
      "userId": "18331083944507779933"
     },
     "user_tz": -600
    },
    "id": "zF0oC02GzyKb",
    "outputId": "fc4d453f-c3e1-44ec-886b-e1f89be7247e"
   },
   "outputs": [
    {
     "data": {
      "image/png": "[encoded data removed]",
      "text/plain": "<Figure size 432x288 with 1 Axes>"
     },
     "metadata": {
      "needs_background": "light"
     },
     "output_type": "display_data"
    }
   ],
   "source": [
    "plt.plot(series['Date'], unemployment['URATE'])\r\n",
    "graph = plt.xlabel('Date', fontsize=12)\r\n",
    "graph = plt.title('URATE', fontsize=12)"
   ]
  },
  {
   "cell_type": "markdown",
   "metadata": {
    "colab_type": "text",
    "id": "iabhlnIDJIYR"
   },
   "source": [
    "### 2. White Noise Properties"
   ]
  },
  {
   "cell_type": "markdown",
   "metadata": {
    "colab_type": "text",
    "id": "6ZJ-eAmm0fhD"
   },
   "source": [
    "The disturbance term u_t in the AR(1) model is assumed to have zero mean, constant variance (homoskedascity) and zero autocovariance. White noise properties formally written as:\n",
    "\n",
    "$E(u_t) = 0$\n",
    "\n",
    "$E(u^2_t) = \\sigma^2_u$\n",
    "\n",
    "$E(u_t u_{t-s}) = 0, s \\ne 0$"
   ]
  },
  {
   "cell_type": "code",
   "execution_count": 5,
   "metadata": {
    "colab": {
     "base_uri": "https://localhost:8080/",
     "height": 269
    },
    "colab_type": "code",
    "executionInfo": {
     "elapsed": 785,
     "status": "ok",
     "timestamp": 1570163211765,
     "user": {
      "displayName": "Max Ruan",
      "photoUrl": "",
      "userId": "18331083944507779933"
     },
     "user_tz": -600
    },
    "id": "dycYNbsiJIYT",
    "outputId": "c169b477-5563-44b2-ae2e-0642e25a400f"
   },
   "outputs": [
    {
     "data": {
      "image/png": "[encoded data removed]",
      "text/plain": "<Figure size 432x288 with 1 Axes>"
     },
     "metadata": {
      "needs_background": "light"
     },
     "output_type": "display_data"
    }
   ],
   "source": [
    "#White noise process\r\n",
    "mean = 0\r\n",
    "std = 1 \r\n",
    "num_samples = 100\r\n",
    "whitenoise = np.random.normal(mean, std, size=num_samples)\r\n",
    "plt.plot(whitenoise)\r\n",
    "plt.show()"
   ]
  },
  {
   "cell_type": "markdown",
   "metadata": {
    "colab_type": "text",
    "id": "X4TxwBdpJIYW"
   },
   "source": [
    "Because the residuals are white noise, which have all autocvariances as zero, the ACF and PACF should not exhibit any significant autocorrelations and partial autocorrelations. We should check if our model residuals has white noise process."
   ]
  },
  {
   "cell_type": "code",
   "execution_count": 6,
   "metadata": {
    "colab": {
     "base_uri": "https://localhost:8080/",
     "height": 281
    },
    "colab_type": "code",
    "executionInfo": {
     "elapsed": 581,
     "status": "ok",
     "timestamp": 1570163215482,
     "user": {
      "displayName": "Max Ruan",
      "photoUrl": "",
      "userId": "18331083944507779933"
     },
     "user_tz": -600
    },
    "id": "r0MwN15hJIYX",
    "outputId": "7c9a8e62-37e1-496a-cfbb-9262dba85589"
   },
   "outputs": [
    {
     "data": {
      "image/png": "[encoded data removed]",
      "text/plain": "<Figure size 432x288 with 1 Axes>"
     },
     "metadata": {
      "needs_background": "light"
     },
     "output_type": "display_data"
    }
   ],
   "source": [
    "acfplot = plot_acf(whitenoise, alpha = .05, zero = False)"
   ]
  },
  {
   "cell_type": "code",
   "execution_count": 7,
   "metadata": {
    "colab": {
     "base_uri": "https://localhost:8080/",
     "height": 281
    },
    "colab_type": "code",
    "executionInfo": {
     "elapsed": 774,
     "status": "ok",
     "timestamp": 1570163224528,
     "user": {
      "displayName": "Max Ruan",
      "photoUrl": "",
      "userId": "18331083944507779933"
     },
     "user_tz": -600
    },
    "id": "DBVhAh3qJIYa",
    "outputId": "f25cb835-fb89-4af8-bfab-68cb6cab54d7"
   },
   "outputs": [
    {
     "name": "stderr",
     "output_type": "stream",
     "text": [
      "C:\\Users\\Max Ruan\\AppData\\Local\\Programs\\Python\\Python38\\lib\\site-packages\\statsmodels\\graphics\\tsaplots.py:348: FutureWarning: The default method 'yw' can produce PACF values outside of the [-1,1] interval. After 0.13, the default will change tounadjusted Yule-Walker ('ywm'). You can use this method now by setting method='ywm'.\n",
      "  warnings.warn(\n"
     ]
    },
    {
     "data": {
      "image/png": "[encoded data removed]",
      "text/plain": "<Figure size 432x288 with 1 Axes>"
     },
     "metadata": {
      "needs_background": "light"
     },
     "output_type": "display_data"
    }
   ],
   "source": [
    "pacfplot = plot_pacf(whitenoise, alpha = .05, zero = False)"
   ]
  },
  {
   "cell_type": "markdown",
   "metadata": {
    "colab_type": "text",
    "id": "mQFzy0RKJIYj"
   },
   "source": [
    "### Check Roots - Invertibility & Stationarity"
   ]
  },
  {
   "cell_type": "markdown",
   "metadata": {
    "colab_type": "text",
    "id": "zWgodIUTJIYj"
   },
   "source": [
    "There are rules to what parameters are to ensure stationarity. If we have a stationary series, the expectation/mean of y_t and y_t-1 should both be equal to mu i.e. the same. You thus, get mu = phi_0 (constant) + phi_1 * mu. Rearranging this gives us mu = (phi_0)/(1 - phi_1). Because mu must be finite, phi_1 cannot be equal to 1, as this indicates that the mean would approach infinity. "
   ]
  },
  {
   "cell_type": "markdown",
   "metadata": {
    "colab_type": "text",
    "id": "euN9FGisJIYn"
   },
   "source": [
    "To compute the unconditional variance, we start from mu = phi_0 + phi_1 * mu. We subtract this from y_t = phi_0 + phi_1 * y_t-1 + u_t. So we get y_t - mu = phi_1(y_t-1 - mu) + u_t. i.e. Deviations from the mean. We then square both sides to get: (y_t-1 - mu)^2 = phi_1^2(y_t-1 - mu)^2 + u_t^2 + 2*phi_1*(y_t-1 - mu)*u_t. Taking the unconditional expectation. The expression simplifies as u_t and y_t-1 - mu are independent. Thus we have E[(y_t - mu)^2] = phi_i^2*E[(y_t-1 - mu)^2] + E[u_t^2]. By definition E[u_t^2] the error variance is sigma_u^2. We expect that the unconditional variance is stationary so that E[(y_t - mu)^2] is the same as E[(y_t-1 - mu)^2], equal to say gamma_0. Thus, we get the expression: gamma_0 = phi_1^2*gamma_0 + sigma_u^2. Rearranging give us gamma_0 = sigma_u^2/(1 - phi_1^2). For it to be stationary, it must be finite, which is only the case if phi_1 is smaller than 1. "
   ]
  },
  {
   "cell_type": "markdown",
   "metadata": {
    "colab_type": "text",
    "id": "dhbRyT1rJIYo"
   },
   "source": [
    "It is important to be able to derive the unconditional mean, variance and covariances for AR(1) models and AR(2) models and AR(p) models."
   ]
  },
  {
   "cell_type": "markdown",
   "metadata": {
    "colab": {},
    "colab_type": "code",
    "id": "VWz7yrbUJIYr",
    "outputId": "9bebde76-c3af-4b48-f456-0eb5dbee642b"
   },
   "source": [
    "### 3. Estimating AR(p) Model"
   ]
  },
  {
   "cell_type": "markdown",
   "metadata": {
    "colab": {},
    "colab_type": "code",
    "id": "7C_GdrytJIYs",
    "outputId": "aef203d7-d2ee-4106-a264-5cfe44425bec"
   },
   "source": [
    "We estimate the parameters of our models using **least squares (OLS)** estimator."
   ]
  },
  {
   "cell_type": "code",
   "execution_count": 8,
   "metadata": {
    "colab": {},
    "colab_type": "code",
    "id": "IBOKCugaJIYf"
   },
   "outputs": [],
   "source": [
    "AR_lag = 1\r\n",
    "variable = unemployment['URATE']"
   ]
  },
  {
   "cell_type": "code",
   "execution_count": 9,
   "metadata": {
    "colab": {
     "base_uri": "https://localhost:8080/",
     "height": 444
    },
    "colab_type": "code",
    "executionInfo": {
     "elapsed": 1221,
     "status": "ok",
     "timestamp": 1570163235589,
     "user": {
      "displayName": "Max Ruan",
      "photoUrl": "",
      "userId": "18331083944507779933"
     },
     "user_tz": -600
    },
    "id": "TMHV3dNoJIYg",
    "outputId": "f07b75de-7854-4118-fe76-85588c96337a"
   },
   "outputs": [
    {
     "data": {
      "text/html": "<table class=\"simpletable\">\n<caption>OLS Regression Results</caption>\n<tr>\n  <th>Dep. Variable:</th>            <td>y</td>        <th>  R-squared:         </th> <td>   0.979</td> \n</tr>\n<tr>\n  <th>Model:</th>                   <td>OLS</td>       <th>  Adj. R-squared:    </th> <td>   0.978</td> \n</tr>\n<tr>\n  <th>Method:</th>             <td>Least Squares</td>  <th>  F-statistic:       </th> <td>   8966.</td> \n</tr>\n<tr>\n  <th>Date:</th>             <td>Fri, 10 Jun 2022</td> <th>  Prob (F-statistic):</th> <td>1.34e-165</td>\n</tr>\n<tr>\n  <th>Time:</th>                 <td>13:43:16</td>     <th>  Log-Likelihood:    </th> <td> -52.307</td> \n</tr>\n<tr>\n  <th>No. Observations:</th>      <td>   198</td>      <th>  AIC:               </th> <td>   108.6</td> \n</tr>\n<tr>\n  <th>Df Residuals:</th>          <td>   196</td>      <th>  BIC:               </th> <td>   115.2</td> \n</tr>\n<tr>\n  <th>Df Model:</th>              <td>     1</td>      <th>                     </th>     <td> </td>    \n</tr>\n<tr>\n  <th>Covariance Type:</th>      <td>nonrobust</td>    <th>                     </th>     <td> </td>    \n</tr>\n</table>\n<table class=\"simpletable\">\n<tr>\n    <td></td>       <th>coef</th>     <th>std err</th>      <th>t</th>      <th>P>|t|</th>  <th>[0.025</th>    <th>0.975]</th>  \n</tr>\n<tr>\n  <th>const</th> <td>    0.1467</td> <td>    0.068</td> <td>    2.151</td> <td> 0.033</td> <td>    0.012</td> <td>    0.281</td>\n</tr>\n<tr>\n  <th>x1</th>    <td>    0.9791</td> <td>    0.010</td> <td>   94.687</td> <td> 0.000</td> <td>    0.959</td> <td>    1.000</td>\n</tr>\n</table>\n<table class=\"simpletable\">\n<tr>\n  <th>Omnibus:</th>       <td>79.857</td> <th>  Durbin-Watson:     </th> <td>   0.984</td>\n</tr>\n<tr>\n  <th>Prob(Omnibus):</th> <td> 0.000</td> <th>  Jarque-Bera (JB):  </th> <td> 282.895</td>\n</tr>\n<tr>\n  <th>Skew:</th>          <td> 1.626</td> <th>  Prob(JB):          </th> <td>3.72e-62</td>\n</tr>\n<tr>\n  <th>Kurtosis:</th>      <td> 7.869</td> <th>  Cond. No.          </th> <td>    20.4</td>\n</tr>\n</table><br/><br/>Notes:<br/>[1] Standard Errors assume that the covariance matrix of the errors is correctly specified.",
      "text/plain": "<class 'statsmodels.iolib.summary.Summary'>\n\"\"\"\n                            OLS Regression Results                            \n==============================================================================\nDep. Variable:                      y   R-squared:                       0.979\nModel:                            OLS   Adj. R-squared:                  0.978\nMethod:                 Least Squares   F-statistic:                     8966.\nDate:                Fri, 10 Jun 2022   Prob (F-statistic):          1.34e-165\nTime:                        13:43:16   Log-Likelihood:                -52.307\nNo. Observations:                 198   AIC:                             108.6\nDf Residuals:                     196   BIC:                             115.2\nDf Model:                           1                                         \nCovariance Type:            nonrobust                                         \n==============================================================================\n                 coef    std err          t      P>|t|      [0.025      0.975]\n------------------------------------------------------------------------------\nconst          0.1467      0.068      2.151      0.033       0.012       0.281\nx1             0.9791      0.010     94.687      0.000       0.959       1.000\n==============================================================================\nOmnibus:                       79.857   Durbin-Watson:                   0.984\nProb(Omnibus):                  0.000   Jarque-Bera (JB):              282.895\nSkew:                           1.626   Prob(JB):                     3.72e-62\nKurtosis:                       7.869   Cond. No.                         20.4\n==============================================================================\n\nNotes:\n[1] Standard Errors assume that the covariance matrix of the errors is correctly specified.\n\"\"\""
     },
     "execution_count": 9,
     "metadata": {},
     "output_type": "execute_result"
    }
   ],
   "source": [
    "X = np.empty([np.count_nonzero(~np.isnan(variable)) - AR_lag,0])\r\n",
    "for i in reversed(range(0,AR_lag + 1)):\r\n",
    "    if i == AR_lag:\r\n",
    "        Y = variable[pd.Series.first_valid_index(variable)+i:]\r\n",
    "        Y = Y.values\r\n",
    "    else:\r\n",
    "        X1 = variable[pd.Series.first_valid_index(variable)+i:i-AR_lag]\r\n",
    "        X = np.column_stack([X,X1])\r\n",
    "X = sm.add_constant(X, prepend = True)\r\n",
    "ARmodel = sm.OLS(Y, X).fit()\r\n",
    "ARmodel.summary()"
   ]
  },
  {
   "cell_type": "markdown",
   "metadata": {
    "colab": {},
    "colab_type": "code",
    "id": "IBOKCugaJIYf"
   },
   "source": [
    "Estimated AR(1) model is:\n",
    "$URATE_t = 0.1467 + 0.9791 URATE_{t-1} + \\hat u_t$\n",
    "\n",
    "i.e. $\\phi_0 = 0.1467, \\phi_1 - 0.9791$\n",
    "\n",
    "Note: Different AIC and BIC/SIC values are different to Eviews. \n",
    "\n",
    "\n",
    "The estimated AR(2) model:\n",
    "\n",
    "$URATE_t = 0.1365 + 1.4869 URATE_{t-1} + -0.5075 URATE_{t-2} + \\hat u_t$\n",
    "\n",
    "$\\hat u_t$ represents the OLS residuals i.e. $URATE_t - \\hat {URATE_t}$\n",
    "\n",
    "Also note that our original series has 199 observations but because we regress against its lags (198 observations), our regression is done with 198 observations. The greater the AR order, the more observations lost. \n",
    "\n",
    "We can check if the coefficients are statistically significant based on the p-value (< 0.05) or t-statistic (> 1.96)."
   ]
  },
  {
   "cell_type": "code",
   "execution_count": 10,
   "metadata": {
    "colab": {},
    "colab_type": "code",
    "id": "TcR4U5-_JIYk",
    "outputId": "f7385789-2e56-4d07-c1ed-c9a6ec4531c8"
   },
   "outputs": [
    {
     "name": "stdout",
     "output_type": "stream",
     "text": [
      "Unconditional mean: 7.030207812617015\n",
      "Unconditional variance: \n"
     ]
    }
   ],
   "source": [
    "print(\"Unconditional mean: \" + str(ARmodel.params[0]/(1 - ARmodel.params[1])))\r\n",
    "print(\"Unconditional variance: \")"
   ]
  },
  {
   "cell_type": "markdown",
   "metadata": {
    "colab": {
     "base_uri": "https://localhost:8080/",
     "height": 444
    },
    "colab_type": "code",
    "executionInfo": {
     "elapsed": 1221,
     "status": "ok",
     "timestamp": 1570163235589,
     "user": {
      "displayName": "Max Ruan",
      "photoUrl": "",
      "userId": "18331083944507779933"
     },
     "user_tz": -600
    },
    "id": "TMHV3dNoJIYg",
    "outputId": "f07b75de-7854-4118-fe76-85588c96337a"
   },
   "source": [
    "### 4. AR Model Properties - Unconditional Mean"
   ]
  },
  {
   "cell_type": "markdown",
   "metadata": {
    "colab_type": "text",
    "id": "FpUyc2IM5pao"
   },
   "source": [
    "From an AR model, we should know how to derive the inferred unconditional mean, variance and autocovariance. Understand the assumptions made and used.\n",
    "\n",
    "e.g. Consider the AR(1) model:\n",
    "\n",
    "$y_t = \\phi_0 + \\phi_1 y_{t-1} +u_t$\n",
    "\n",
    "Unconditional mean:\n",
    "1.   Obtain $E(y_t)$\n",
    "\n",
    "$E(y_t) = \\phi_0 + \\phi_1 E(y_{t-1}) + E(u_t)$\n",
    "\n",
    "2.   Use property that $E(u_t) = 0$\n",
    "\n",
    "$E(y_t) = \\phi_0 + \\phi_1 E(y_{t-1})$\n",
    "\n",
    "3. Stationary assumption implies $E(y_t) = E(y_{t-k} = \\mu$)\n",
    "\n",
    "$\\mu = \\phi_0 + \\phi_1 \\mu$\n",
    "\n",
    "4. Solve for unconditional mean $\\mu$\n",
    "\n",
    "$\\mu = \\frac{\\phi_0}{1-\\phi_1}$\n",
    "\n",
    "5. Note that stationary assumption implies $\\phi_1 < 1$, because if $\\phi_1 = 1$, mean would approach infinity (i.e. no longer finite). Note an unit root is where $\\phi_1 = 1$.\n",
    "\n",
    "\n"
   ]
  },
  {
   "cell_type": "markdown",
   "metadata": {
    "colab_type": "text",
    "id": "F7hzT4PtAAP2"
   },
   "source": [
    "### 5. Unconditional Variance for AR(1) Model"
   ]
  },
  {
   "cell_type": "markdown",
   "metadata": {
    "colab_type": "text",
    "id": "1SsMUotkAD1q"
   },
   "source": [
    "e.g. Consider the AR(1) model:\n",
    "\n",
    "$y_t = \\phi_0 + \\phi_1 y_{t-1} +u_t$\n",
    "\n",
    "1.   Obtain its 'mean' form (assuming stationarity and white noise errors)\n",
    "\n",
    "$\\mu = \\phi_0 + \\phi_1 \\mu$\n",
    "\n",
    "2. Obtain the deviations from the mean by subtracting the second equation:\n",
    "\n",
    "$y_t - \\mu = \\phi_1 (y_{t-1} - \\mu) +u_t$\n",
    "\n",
    "3. Take the square of both sides:\n",
    "\n",
    "$(y_t - \\mu)^2 = \\phi^2_1 (y_{t-1} - \\mu)^2 +u^2_t + 2\\phi_1(y_{t-1} - \\mu)u_t$\n",
    "\n",
    "4. Take the expectation, this gives the unconditional variance:\n",
    "\n",
    "$E((y_t - \\mu)^2) = \\phi^2_1 E((y_{t-1} - \\mu)^2) +E(u^2_t) + 2\\phi_1E((y_{t-1} - \\mu)u_t)$\n",
    "\n",
    "5. We know that $(y_{t-1} - \\mu)$ and $u_t$ are independent, which implies $E((y_{t-1} - \\mu)u_t) = 0$\n",
    "\n",
    "$E((y_t - \\mu)^2) = \\phi^2_1 E((y_{t-1} - \\mu)^2) +E(u^2_t)$\n",
    "\n",
    "6. By definition $E(u^2_t)$ is the error variance i.e. $E(u^2_t) = \\sigma^2_u$\n",
    "\n",
    "$E((y_t - \\mu)^2) = \\phi^2_1 E((y_{t-1} - \\mu)^2) + \\sigma^2_u$\n",
    "\n",
    "7. Impose stationary in the variance condition:\n",
    "\n",
    "$\\gamma_0 = \\phi^2_1 \\gamma_0 + \\sigma^2_u$\n",
    "\n",
    "8. Solve for the unconditional variance:\n",
    "\n",
    "$\\gamma_0 = \\frac{\\sigma^2_u}{1-\\phi^2_1}$\n",
    "\n",
    "Note: the unconditional variance would not exist if $\\phi_1 = 1$, otherwise the variance would be infinite. It also cannot be greater than 1 because variance by definition is non-negative.\n",
    "\n"
   ]
  },
  {
   "cell_type": "markdown",
   "metadata": {
    "colab_type": "text",
    "id": "BQvcRwHWuEK-"
   },
   "source": [
    "### 6. Unconditional First Order Autocovariance (and $p$th Order Autocovariance) for AR(1) Model"
   ]
  },
  {
   "cell_type": "markdown",
   "metadata": {
    "colab_type": "text",
    "id": "6EQzGxHxqFNB"
   },
   "source": [
    "e.g. Consider the AR(1) model:\n",
    "\n",
    "$y_t = \\phi_0 + \\phi_1 y_{t-1} +u_t$\n",
    "\n",
    "1. We define first order autocovariance as:\n",
    "\n",
    "$\\gamma_1 = E((y_t - \\mu)(y_{t-1} - \\mu))$\n",
    "\n",
    "2. Obtain 'mean deviation' form (assuming stationarity and white noise errors):\n",
    "\n",
    "$\\mu = \\phi_0 + \\phi_1 \\mu$\n",
    "\n",
    "$y_t - \\mu = \\phi_1 (y_{t-1} - \\mu) +u_t$\n",
    "\n",
    "3. Don't take the square of both sides, now multiply both sides by $(y_{t-1} - \\mu)$:\n",
    "\n",
    "$(y_t - \\mu)(y_{t-1}-\\mu) = \\phi_1 (y_{t-1} - \\mu)^2 +u_t(y_{t-1}-\\mu)$\n",
    "\n",
    "4. Take the expectation, this gives the unconditional first order autocovariance:\n",
    "\n",
    "$E((y_t - \\mu)(y_{t-1}-\\mu)) = \\phi_1 E((y_{t-1} - \\mu)^2) +E(u_t(y_{t-1}-\\mu))$\n",
    "\n",
    "5. We know that $(y_{t-1} - \\mu)$ and $u_t$ are independent, which implies $E((y_{t-1} - \\mu)u_t) = 0$\n",
    "\n",
    "$E((y_t - \\mu)(y_{t-1}-\\mu)) = \\phi_1 E((y_{t-1} - \\mu)^2)$\n",
    "\n",
    "6. By definition:\n",
    "\n",
    "$\\gamma_1 = \\phi_1 \\gamma_0)$\n",
    "\n",
    "7. Input the unconditonal variance:\n",
    "\n",
    "$\\gamma_1 = \\phi_1 \\frac{\\sigma^2_u}{1-\\phi^2_1}$\n",
    "\n",
    "For second order autocovariance:\n",
    "\n",
    "$\\gamma_2 = E((y_t - \\mu)(y_{t-2} - \\mu))$\n",
    "\n",
    "We show that for the AR(1) model:\n",
    "\n",
    "$\\gamma_2 = \\phi^2_1 \\gamma_0$\n",
    "\n",
    "For $p$th order autocovariance:\n",
    "\n",
    "$\\gamma_p = E((y_t - \\mu)(y_{t-p} - \\mu))$\n",
    "\n",
    "$\\gamma_p = \\phi^p_1 \\gamma_0$"
   ]
  },
  {
   "cell_type": "markdown",
   "metadata": {
    "colab_type": "text",
    "id": "EfRuvX8Rsvu4"
   },
   "source": [
    "### 7. First Order Autocorrelation and $p$th Order Autocorrelation for AR(1) Model"
   ]
  },
  {
   "cell_type": "markdown",
   "metadata": {
    "colab_type": "text",
    "id": "AwolKuoys1kn"
   },
   "source": [
    "Autocorrelation is just standardised autocovariance, where we divide by the variance.\n",
    "\n",
    "We know the variance of $y_t$ is $\\gamma_0$.\n",
    "\n",
    "Hence, first order autocorrelation (for AR(1) model) is:\n",
    "\n",
    "$\\rho_1 = \\frac{\\gamma_1}{\\gamma_0} = \\phi_1$\n",
    "\n",
    "For $p$th order autocorrelation:\n",
    "$\\rho_p = \\frac{\\gamma_p}{\\gamma_0} = \\phi^p_1$\n",
    "\n",
    "This tells us that the ACF decays exponentially if $|\\phi_1|<1$, which is a condition imposed by stationarity.\n",
    "\n",
    "\n"
   ]
  },
  {
   "cell_type": "markdown",
   "metadata": {
    "colab_type": "text",
    "id": "TGuLvuFDuV61"
   },
   "source": [
    "### 8. Unconditional Mean, Variance, Autocovariance, Autocorrelation for AR(2) Model"
   ]
  },
  {
   "cell_type": "markdown",
   "metadata": {
    "colab_type": "text",
    "id": "54L56iqOuiXG"
   },
   "source": [
    "More involved, not that simple.\n",
    "\n",
    "Consider the AR(2) Model:\n",
    "\n",
    "$y_t = \\phi_0 + \\phi_1 y_{t-1} + \\phi_2 y_{t-2} + u_t$\n",
    "\n",
    "Take expectation, impose zero error mean, impose mean stationarity (same at any time), gives us the mean:\n",
    "\n",
    "$E(y_t) = \\phi_0 + \\phi_1 E(y_{t-1}) + \\phi_2 E(y_{t-2})$\n",
    "\n",
    "$\\mu = \\phi_0 + \\phi_1 \\mu + \\phi_2 \\mu$\n",
    "\n",
    "$\\mu = \\frac{\\phi_0}{1-\\phi_1 - \\phi_2}$\n",
    "\n",
    "Note: unconditional mean doesn't exist if $\\phi_1 + \\phi_2 = 1$, otherwise mean would be infinite.\n",
    "\n",
    "Subtract AR(2) model against its mean deviation form:\n",
    "\n",
    "$y_t - \\mu = \\phi_1(y_{t-1} - \\mu) + \\phi_2 (y_{t-2} - \\mu) + u_t$\n",
    "\n",
    "Multiply both sides by $(y_t - \\mu)$, take expectations and use definitions of autocovariances:\n",
    "\n",
    "$(y_t - \\mu)^2 = \\phi_1(y_t - \\mu)(y_{t-1} - \\mu) + \\phi_2 (y_t - \\mu)(y_{t-2} - \\mu) + (y_t - \\mu)u_t$\n",
    "\n",
    "$E((y_t - \\mu)^2) = \\phi_1E((y_t - \\mu)(y_{t-1} - \\mu)) + \\phi_2 E((y_t - \\mu)(y_{t-2} - \\mu)) + E((y_t - \\mu)u_t)$\n",
    "\n",
    "$\\gamma_0 = \\phi_1 \\gamma_1 + \\phi_2 \\gamma_2 + E((y_t - \\mu)u_t)$\n",
    "\n",
    "Dealing with the $E((y_t - \\mu)u_t)$ term, we know that $y_t -\\mu$ is:\n",
    "\n",
    "$y_t - \\mu = \\phi_1(y_{t-1} - \\mu) + \\phi_2 (y_{t-2} - \\mu) + u_t$\n",
    "\n",
    "Multiply it by $u_t$ and then take the expectation:\n",
    "\n",
    "$E(u_t(y_t - \\mu)) = E(u_t(\\phi_1(y_{t-1} - \\mu) + \\phi_2 (y_{t-2} - \\mu) + u_t))$\n",
    "\n",
    "$E(u_t(y_t - \\mu)) = \\phi_1 E(u_t(y_{t-1} - \\mu)) + \\phi_2 E(u_t(y_{t-2} - \\mu)) + E(u^2_t)$\n",
    "\n",
    "We know that the terms are independent and the definition of the error variance. this gives us the unconditional variance:\n",
    "\n",
    "$E(u_t(y_t - \\mu)) = \\sigma^2_u$\n",
    "\n",
    "$\\gamma_0 = \\phi_1 \\gamma_1 + \\phi_2 \\gamma_2 + \\sigma^2_u$\n",
    "\n",
    "To get the first order autocovariance, we use the mean deviation form:\n",
    "\n",
    "$y_t - \\mu = \\phi_1(y_{t-1} - \\mu) + \\phi_2 (y_{t-2} - \\mu) + u_t$\n",
    "\n",
    "Multiply both sides by $(y_{t-1} - \\mu)$:\n",
    "\n",
    "$(y_t - \\mu)(y_{t-1} - \\mu) = \\phi_1(y_{t-1} - \\mu)(y_{t-1} - \\mu) + \\phi_2 (y_{t-2} - \\mu)(y_{t-1} - \\mu) + u_t(y_{t-1} - \\mu)$\n",
    "\n",
    "Take unconditional expectation:\n",
    "\n",
    "$E((y_t - \\mu)(y_{t-1} - \\mu)) = \\phi_1 E((y_{t-1} - \\mu)(y_{t-1} - \\mu)) + \\phi_2 E((y_{t-2} - \\mu)(y_{t-1} - \\mu)) + E(u_t(y_{t-1} - \\mu))$\n",
    "\n",
    "$\\gamma_1 = \\phi_1 \\gamma_0 + \\phi_2 \\gamma_1$\n",
    "\n",
    "$\\gamma_1 = \\frac{\\phi_1}{1-\\phi_2}\\gamma_0$\n",
    "\n",
    "To get the second order autocovariance, use mean deviation form, multiply by $(y_{t-2} - \\mu)$ and take expectation:\n",
    "\n",
    "$y_t - \\mu = \\phi_1(y_{t-1} - \\mu) + \\phi_2 (y_{t-2} - \\mu) + u_t$\n",
    "\n",
    "$(y_t - \\mu)(y_{t-2} - \\mu) = \\phi_1(y_{t-1} - \\mu)(y_{t-2} - \\mu) + \\phi_2 (y_{t-2} - \\mu)(y_{t-2} - \\mu) + u_t(y_{t-2} - \\mu)$\n",
    "\n",
    "$\\gamma_2 = \\phi_1 \\gamma_1 + \\phi_2 \\gamma_0$\n",
    "\n",
    "Substitute in the $\\gamma_1$ equation:\n",
    "\n",
    "$\\gamma_2 = \\frac{\\phi^2_1}{1-\\phi_2}\\gamma_0 + \\phi_2 \\gamma_0 = (\\frac{\\phi^2_1}{1-\\phi_2} + \\phi_2)\\gamma_0$\n",
    "\n",
    "We can finally solve for variance because we now have the two autocovariance terms in terms of coefficients and variance terms:\n",
    "\n",
    "$\\gamma_0 = \\phi_1 \\gamma_1 + \\phi_2 \\gamma_2 + \\sigma^2_u$\n",
    "\n",
    "$\\gamma_0 = \\frac{\\phi^2_1}{1-\\phi_2}\\gamma_0 +  (\\frac{\\phi_2 \\phi^2_1}{1-\\phi_2} + \\phi^2_2)\\gamma_0 + \\sigma^2_u$\n",
    "\n",
    "$\\gamma_0 = \\frac{(1-\\phi_2)\\sigma^2_u}{(1+\\phi_2)((1-\\phi_2)^2 - \\phi^2_1)}$\n"
   ]
  },
  {
   "cell_type": "markdown",
   "metadata": {
    "colab_type": "text",
    "id": "-IPgF-SzJIYw"
   },
   "source": [
    "### 9. Ex-Ante Point Forecasting "
   ]
  },
  {
   "cell_type": "markdown",
   "metadata": {
    "colab_type": "text",
    "id": "W9cB0-NgJIYx"
   },
   "source": [
    "We have the OLS estimates for our model parameters. Now to forecast $y_{t+1}$, our model is thus $\\phi_0 + \\phi_1 y_t + u_{t+1}$. \n",
    "\n",
    "We have today's value $y_t$, we don't know the parameters. \n",
    "\n",
    "But we can replace the unknown parameters using our OLS estimates $\\hat \\phi_0$ and $\\hat \\phi_1$. \n",
    "\n",
    "The futue value of the error term is replaced with its unconditional mean, which is 0. \n",
    "\n",
    "Thus our forecast at $t+1$ is thus $\\hat y_{t+1} = \\hat \\phi_0 + \\hat \\phi_1 y_t$."
   ]
  },
  {
   "cell_type": "code",
   "execution_count": 11,
   "metadata": {
    "colab": {
     "base_uri": "https://localhost:8080/",
     "height": 34
    },
    "colab_type": "code",
    "executionInfo": {
     "elapsed": 562,
     "status": "ok",
     "timestamp": 1570163258501,
     "user": {
      "displayName": "Max Ruan",
      "photoUrl": "",
      "userId": "18331083944507779933"
     },
     "user_tz": -600
    },
    "id": "7FsgC4MQJIYx",
    "outputId": "7792a00c-72d8-4773-a40e-e9ed70b328da"
   },
   "outputs": [
    {
     "name": "stdout",
     "output_type": "stream",
     "text": [
      "[5.0186967  5.06067821 5.10178354 5.14203097 5.18143842 5.2200234\n",
      " 5.25780309 5.2947943 ]\n"
     ]
    }
   ],
   "source": [
    "num_forecasts = 7\r\n",
    "starting_values = Y[-AR_lag:]\r\n",
    "for i in range(0, num_forecasts):\r\n",
    "    forecast_1period = ARmodel.params[0]\r\n",
    "    for i in range(0, AR_lag):\r\n",
    "        forecast_1period = forecast_1period + ARmodel.params[i+1]*starting_values[-1-i]\r\n",
    "    starting_values = np.append(starting_values,forecast_1period)\r\n",
    "print(starting_values)"
   ]
  },
  {
   "cell_type": "markdown",
   "metadata": {
    "colab_type": "text",
    "id": "B76QZAyCJIY0"
   },
   "source": [
    "The unemployment rate is predicted to increase continually over the forecast period, peaking at 5.29% in 2020Q4.\n",
    "\n",
    "The property of our model is that forecasts will converge to the long-run mean given stationarity. Above we have computed that the long-run mean is 7.02ish i.e. Natural rate of unemployment is 7.02%, which our forecasts will approach.\n",
    "\n",
    "The long-run estimated AR(1) mean is:\n",
    "$\\frac{0.1467}{1-0.9791} = 7.0191$"
   ]
  },
  {
   "cell_type": "markdown",
   "metadata": {
    "colab_type": "text",
    "id": "-IPgF-SzJIYw"
   },
   "source": [
    "### 10. Ex-Ante Interval Forecasting "
   ]
  },
  {
   "cell_type": "markdown",
   "metadata": {
    "colab_type": "text",
    "id": "V337iEBYJIY1"
   },
   "source": [
    "We can also think about interval forecasts i.e. a range of future values in order to reflect uncertainties. There are 2 types of uncertainties in our forecasting model: \n",
    "1.   Parameter uncertainty (OLS estimate $\\hat \\beta$ vs. the population parameter $\\beta$) \n",
    "2.   Disturbance/Error uncertainty (as $\\sigma^2_u > 0$)."
   ]
  },
  {
   "cell_type": "markdown",
   "metadata": {
    "colab_type": "text",
    "id": "-IPgF-SzJIYw"
   },
   "source": [
    "### 11. Ex-Post Forecasting "
   ]
  },
  {
   "cell_type": "markdown",
   "metadata": {
    "colab_type": "text",
    "id": "MJhTGdc-6Rpo"
   },
   "source": [
    "Ex-Ante Forecasting is where all of the information is used to estimate the model up to the most recent observation. \n",
    "\n",
    "Ex-Post forecasting is an alternative method where you use a restricted sample and generate forecasts over a horizon, the benefit where you can compare your results/performance with the actual data."
   ]
  },
  {
   "cell_type": "code",
   "execution_count": 12,
   "metadata": {
    "colab": {
     "base_uri": "https://localhost:8080/",
     "height": 204
    },
    "colab_type": "code",
    "executionInfo": {
     "elapsed": 563,
     "status": "ok",
     "timestamp": 1570163274480,
     "user": {
      "displayName": "Max Ruan",
      "photoUrl": "",
      "userId": "18331083944507779933"
     },
     "user_tz": -600
    },
    "id": "BxUQO2xzJIYp",
    "outputId": "96680dd2-7634-4650-d110-190a8dbb4fbd"
   },
   "outputs": [
    {
     "data": {
      "text/html": "<div>\n<style scoped>\n    .dataframe tbody tr th:only-of-type {\n        vertical-align: middle;\n    }\n\n    .dataframe tbody tr th {\n        vertical-align: top;\n    }\n\n    .dataframe thead th {\n        text-align: right;\n    }\n</style>\n<table border=\"1\" class=\"dataframe\">\n  <thead>\n    <tr style=\"text-align: right;\">\n      <th></th>\n      <th>AR(1) Fitted Y</th>\n      <th>Actual</th>\n      <th>Residual</th>\n    </tr>\n  </thead>\n  <tbody>\n    <tr>\n      <th>0</th>\n      <td>1.81</td>\n      <td>1.90</td>\n      <td>0.09</td>\n    </tr>\n    <tr>\n      <th>1</th>\n      <td>2.01</td>\n      <td>1.60</td>\n      <td>-0.41</td>\n    </tr>\n    <tr>\n      <th>2</th>\n      <td>1.71</td>\n      <td>1.70</td>\n      <td>-0.01</td>\n    </tr>\n    <tr>\n      <th>3</th>\n      <td>1.81</td>\n      <td>1.70</td>\n      <td>-0.11</td>\n    </tr>\n    <tr>\n      <th>4</th>\n      <td>1.81</td>\n      <td>1.60</td>\n      <td>-0.21</td>\n    </tr>\n  </tbody>\n</table>\n</div>",
      "text/plain": "   AR(1) Fitted Y  Actual  Residual\n0            1.81    1.90      0.09\n1            2.01    1.60     -0.41\n2            1.71    1.70     -0.01\n3            1.81    1.70     -0.11\n4            1.81    1.60     -0.21"
     },
     "execution_count": 12,
     "metadata": {},
     "output_type": "execute_result"
    }
   ],
   "source": [
    "output = pd.DataFrame()\r\n",
    "output['AR(1) Fitted Y'] = ARmodel.fittedvalues\r\n",
    "output['Actual'] = (variable[pd.Series.first_valid_index(variable)+1:]).values\r\n",
    "output['Residual'] = output['Actual'] - output['AR(1) Fitted Y']\r\n",
    "output.head()"
   ]
  },
  {
   "cell_type": "code",
   "execution_count": 13,
   "metadata": {
    "colab": {
     "base_uri": "https://localhost:8080/",
     "height": 68
    },
    "colab_type": "code",
    "executionInfo": {
     "elapsed": 552,
     "status": "ok",
     "timestamp": 1570163276862,
     "user": {
      "displayName": "Max Ruan",
      "photoUrl": "",
      "userId": "18331083944507779933"
     },
     "user_tz": -600
    },
    "id": "Sir_vhAYJIY2",
    "outputId": "63490090-c489-4ebd-c337-71b553bb25d4"
   },
   "outputs": [
    {
     "name": "stdout",
     "output_type": "stream",
     "text": [
      "Mean Absolute Error: 0.221709\n",
      "Mean Square Error: 0.099308\n",
      "Root Mean Square Error: 0.315132\n"
     ]
    }
   ],
   "source": [
    "expected = output['Actual']\r\n",
    "predictions = output['AR(1) Fitted Y']\r\n",
    "#Mean Absolute Error\r\n",
    "mae = mean_absolute_error(expected, predictions)\r\n",
    "#Mean Square Error\r\n",
    "mse = mean_squared_error(expected, predictions)\r\n",
    "#Root Mean Squared Error\r\n",
    "rmse = sqrt(mse)\r\n",
    "print('Mean Absolute Error: %f' % mae)\r\n",
    "print('Mean Square Error: %f' % mse)\r\n",
    "print('Root Mean Square Error: %f' % rmse)"
   ]
  },
  {
   "cell_type": "markdown",
   "metadata": {
    "colab_type": "text",
    "id": "G0FvPSqPJIYo"
   },
   "source": [
    "### Check Residuals Are White Noise"
   ]
  },
  {
   "cell_type": "code",
   "execution_count": 14,
   "metadata": {
    "colab": {
     "base_uri": "https://localhost:8080/",
     "height": 204
    },
    "colab_type": "code",
    "executionInfo": {
     "elapsed": 563,
     "status": "ok",
     "timestamp": 1570163274480,
     "user": {
      "displayName": "Max Ruan",
      "photoUrl": "",
      "userId": "18331083944507779933"
     },
     "user_tz": -600
    },
    "id": "BxUQO2xzJIYp",
    "outputId": "96680dd2-7634-4650-d110-190a8dbb4fbd"
   },
   "outputs": [
    {
     "data": {
      "image/png": "[encoded data removed]",
      "text/plain": "<Figure size 432x288 with 1 Axes>"
     },
     "metadata": {
      "needs_background": "light"
     },
     "output_type": "display_data"
    }
   ],
   "source": [
    "plt.plot(series['Date'][AR_lag:], output['Residual'])\r\n",
    "plt.axhline(y = output['Residual'].mean(), color = 'r', linestyle = '-')\r\n",
    "graph = plt.xlabel('Date', fontsize=12)"
   ]
  },
  {
   "cell_type": "code",
   "execution_count": 15,
   "metadata": {
    "colab": {
     "base_uri": "https://localhost:8080/",
     "height": 68
    },
    "colab_type": "code",
    "executionInfo": {
     "elapsed": 552,
     "status": "ok",
     "timestamp": 1570163276862,
     "user": {
      "displayName": "Max Ruan",
      "photoUrl": "",
      "userId": "18331083944507779933"
     },
     "user_tz": -600
    },
    "id": "Sir_vhAYJIY2",
    "outputId": "63490090-c489-4ebd-c337-71b553bb25d4"
   },
   "outputs": [
    {
     "data": {
      "image/png": "[encoded data removed]",
      "text/plain": "<Figure size 432x288 with 1 Axes>"
     },
     "metadata": {
      "needs_background": "light"
     },
     "output_type": "display_data"
    }
   ],
   "source": [
    "acfplot = plot_acf(output['Residual'], alpha = .05, zero = False)"
   ]
  },
  {
   "cell_type": "markdown",
   "metadata": {
    "colab_type": "text",
    "id": "G0FvPSqPJIYo"
   },
   "source": [
    "### Nonlinear Time Series Extensions"
   ]
  },
  {
   "cell_type": "markdown",
   "metadata": {
    "colab_type": "text",
    "id": "p_KX-D1j67XA"
   },
   "source": [
    "AR Models are linear.\n",
    "\n",
    "We can have non-linear models e.g. nonlinear AR(1) models:\n",
    "\n",
    "$y_t = \\phi_0 + \\phi_1 y_{t-1} + \\beta y^2_{t-1} + u_t$\n",
    "\n",
    "Another nonlinear AR(1) ANN model is:\n",
    "$y_t = \\phi_0 + \\phi_1 y_{t-1} + \\beta \\frac{1}{1 + \\exp(-(\\delta_0+\\delta_1y_{t-1}))} + u_t$\n",
    "\n",
    "This is known as a hidden-layer, feed-forward artificial neural network where the non-linear term is called a 'squasher' with a hidden layer and a neurode.\n",
    "\n",
    "Estimation of such models involves computing the residual sum of squares for each parameter estimates, known as the 'fitness function'. This is done iteratively and used to update the parameter estimates to reduces sum of squares - this process is known as ML. Estimation of ANN models are numerically difficult.\n",
    "\n",
    "Other nonlinear models include:\n",
    "\n",
    "1.   Self-exciting threshold autoregressive models (SETAR)\n",
    "2.   Smooth Transitional Autoregressive models (STAR)\n",
    "3.   Genetic algorithms\n",
    "4.   Chaos theory - produces 'random' looking behaviour which is actually deterministic (which implies predictability) - does that mean stock price movmeents that appear random could reflect a nonlinear deterministic process? If so, the difficulty is finding the parameters!\n",
    "5.   Artifical neural networks (ANN) and machine learning (ML)\n",
    "\n"
   ]
  },
  {
   "cell_type": "markdown",
   "metadata": {
    "colab_type": "text",
    "id": "wSDNUSPdJIX2"
   },
   "source": [
    "### Augmented Dickey Fuller (ADF) / Unit Root Test"
   ]
  },
  {
   "cell_type": "markdown",
   "metadata": {
    "colab_type": "text",
    "id": "Vz-KEAotJIX3"
   },
   "source": [
    "Null: Time series can be represented by a unit root i.e. not-stationary, \n",
    "Alternative: Time series cannot be rejected by a unit root, \n",
    "P-value below 0.05 suggests we reject the null at the 5% level. This tests for stochastic non-stationarity. This is computed as the change in the variable regressed against a constant, and it lagged values and lagged changes."
   ]
  },
  {
   "cell_type": "code",
   "execution_count": 16,
   "metadata": {
    "colab": {
     "base_uri": "https://localhost:8080/",
     "height": 170
    },
    "colab_type": "code",
    "executionInfo": {
     "elapsed": 579,
     "status": "ok",
     "timestamp": 1569410693174,
     "user": {
      "displayName": "Max Ruan",
      "photoUrl": "",
      "userId": "18331083944507779933"
     },
     "user_tz": -600
    },
    "id": "17hX_4MSJIX4",
    "outputId": "b9b3be61-8caf-49b1-944a-4088e2d52aed"
   },
   "outputs": [
    {
     "name": "stdout",
     "output_type": "stream",
     "text": [
      "ADF Statistic: -2.732264\n",
      "p-value: 0.068620\n",
      "Lags Used: 2.000000\n",
      "Observations Used 196.000000\n",
      "Critical Values:\n",
      "\t1%: -3.464\n",
      "\t5%: -2.876\n",
      "\t10%: -2.575\n",
      "Reject null at 5% level? NO\n"
     ]
    }
   ],
   "source": [
    "X = variable.values[pd.Series.first_valid_index(variable):]\r\n",
    "result = adfuller(X)\r\n",
    "print('ADF Statistic: %f' % result[0])\r\n",
    "print('p-value: %f' % result[1])\r\n",
    "print('Lags Used: %f' % result[2])\r\n",
    "print('Observations Used %f' % result[3])\r\n",
    "print('Critical Values:')\r\n",
    "for key, value in result[4].items():\r\n",
    "\tprint('\\t%s: %.3f' % (key, value))\r\n",
    "if (result[1]<0.05):\r\n",
    "    print(\"Reject null at 5% level? YES\")\r\n",
    "else:\r\n",
    "    print(\"Reject null at 5% level? NO\")"
   ]
  },
  {
   "cell_type": "markdown",
   "metadata": {
    "colab_type": "text",
    "id": "suE8PMi0JIYE"
   },
   "source": [
    "### Kwiatkowski-Phillips-Schmidt-Shin (KPSS) Test"
   ]
  },
  {
   "cell_type": "markdown",
   "metadata": {
    "colab_type": "text",
    "id": "3NqgK5uRJIYG"
   },
   "source": [
    "Null: time series is stationarity around a deterministic trend against the alternative of a unit root. Option: c = stationarity around a constant, ct = stationarity around a trend. P-value below 0.05 suggests we reject the null at the 5% level."
   ]
  },
  {
   "cell_type": "code",
   "execution_count": 17,
   "metadata": {
    "colab": {
     "base_uri": "https://localhost:8080/",
     "height": 105
    },
    "colab_type": "code",
    "executionInfo": {
     "elapsed": 614,
     "status": "ok",
     "timestamp": 1569410739145,
     "user": {
      "displayName": "Max Ruan",
      "photoUrl": "",
      "userId": "18331083944507779933"
     },
     "user_tz": -600
    },
    "id": "iCx1F90ZJIYH",
    "outputId": "60b65d3f-cd75-4e0a-da9d-3f12c328f148"
   },
   "outputs": [],
   "source": [
    "kpssresults = kpss(variable[pd.Series.first_valid_index(variable):],'c')"
   ]
  },
  {
   "cell_type": "code",
   "execution_count": 18,
   "metadata": {
    "colab": {
     "base_uri": "https://localhost:8080/",
     "height": 34
    },
    "colab_type": "code",
    "executionInfo": {
     "elapsed": 572,
     "status": "ok",
     "timestamp": 1569410740893,
     "user": {
      "displayName": "Max Ruan",
      "photoUrl": "",
      "userId": "18331083944507779933"
     },
     "user_tz": -600
    },
    "id": "L5WzjUf5JIYL",
    "outputId": "c8127922-ea3c-4316-bc00-efd5ca4c9332"
   },
   "outputs": [
    {
     "name": "stdout",
     "output_type": "stream",
     "text": [
      "P-value 5% level: 0.0769\n"
     ]
    }
   ],
   "source": [
    "kpss_pvalue = kpssresults[1]\r\n",
    "print(\"P-value 5% level: {:.4f}\".format(kpss_pvalue))"
   ]
  },
  {
   "cell_type": "markdown",
   "metadata": {},
   "source": [
    "### Unanswered Questions"
   ]
  },
  {
   "cell_type": "markdown",
   "metadata": {
    "colab_type": "text",
    "id": "D-Eq3pQGm2OV"
   },
   "source": [
    "1.   What is the difference in the intuition and usage of PACF and ACF?\n",
    "2.   Why is stationarity important?\n",
    "3.   Stationary series should have rapidly decaying ACFs. What is considered rapidly decaying?\n",
    "4.   What is the main purpose of the ACF and PACF? Is it any good at detecting stationarity? Is it mainly to identify what AR, MA or ARMA model is appropriate model to use to predict our variable of interest? Are there any other purposes?\n",
    "5.   Python packages for AR seem to compute using maximum likelihood. Would there be any practical problems with using this method?\n",
    "6.   We know that $(y_{t-1} - \\mu)$ and $u_t$ are independent?\n",
    "\n"
   ]
  }
 ],
 "metadata": {
  "kernelspec": {
   "display_name": "Python 3.8.0 64-bit",
   "metadata": {
    "interpreter": {
     "hash": "2d04f120ef9720f2488447f7ea0097f595927923387bca235b2adec1aebe5795"
    }
   },
   "name": "python3"
  },
  "language_info": {
   "codemirror_mode": {
    "name": "ipython",
    "version": 3
   },
   "file_extension": ".py",
   "mimetype": "text/x-python",
   "name": "python",
   "nbconvert_exporter": "python",
   "pygments_lexer": "ipython3",
   "version": "3.8.0"
  },
  "orig_nbformat": 2
 },
 "nbformat": 4,
 "nbformat_minor": 2
}