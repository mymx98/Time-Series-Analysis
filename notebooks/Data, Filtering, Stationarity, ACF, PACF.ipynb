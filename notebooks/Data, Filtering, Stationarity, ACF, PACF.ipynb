{
 "cells": [
  {
   "cell_type": "markdown",
   "metadata": {
    "colab_type": "text",
    "id": "E7FK9l-jJIXV"
   },
   "source": [
    "### Week 1 - Properties of Time Series - Data, Filtering, Stationarity, ACF, PACF"
   ]
  },
  {
   "cell_type": "markdown",
   "metadata": {
    "colab_type": "text",
    "id": "xj3MAZtX0T6o"
   },
   "source": [
    "### Packages, Importing Data"
   ]
  },
  {
   "cell_type": "code",
   "execution_count": 1,
   "metadata": {},
   "outputs": [
    {
     "name": "stderr",
     "output_type": "stream",
     "text": [
      "<ipython-input-1-afe9cc16fbcd>:3: FutureWarning: The pandas.datetime class is deprecated and will be removed from pandas in a future version. Import from datetime module instead.\n",
      "  from pandas import datetime\n"
     ]
    }
   ],
   "source": [
    "import numpy as np\r\n",
    "import pandas as pd\r\n",
    "from pandas import datetime\r\n",
    "import matplotlib.pyplot as plt\r\n",
    "\r\n",
    "import statsmodels\r\n",
    "from statsmodels.tsa.stattools import adfuller\r\n",
    "from statsmodels.tsa.stattools import kpss\r\n",
    "from statsmodels.sandbox.regression.predstd import wls_prediction_std\r\n",
    "from statsmodels.tsa.ar_model import AR\r\n",
    "from statsmodels.tsa.stattools import acf\r\n",
    "from statsmodels.tsa.stattools import pacf\r\n",
    "from statsmodels.graphics.tsaplots import plot_acf\r\n",
    "from statsmodels.graphics.tsaplots import plot_pacf\r\n",
    "\r\n",
    "import math\r\n",
    "from math import sqrt\r\n",
    "from math import isnan\r\n",
    "\r\n",
    "from sklearn.metrics import mean_absolute_error\r\n",
    "from sklearn.metrics import mean_squared_error"
   ]
  },
  {
   "cell_type": "markdown",
   "metadata": {
    "colab_type": "text",
    "id": "dmvHxE95zuT5"
   },
   "source": [
    "### 1. Motivation"
   ]
  },
  {
   "cell_type": "markdown",
   "metadata": {
    "colab_type": "text",
    "id": "MT1v5-dFLvfV"
   },
   "source": [
    "Generally, the motivation is forecasting and figuring out what might happen in the future, so you can make better decisions today.\n",
    "*   Long-term: Climate Change (in 100 years)\n",
    "*   Medium-term: Economic Forecasts (in 3-5 years)\n",
    "*   Short-term: VaR (over 5 days), prices (15 minutes?)\n",
    "\n",
    "What are the kind of possible sources from where a variable can be changed? \n",
    "1.    Change in its past value (AR component) e.g. AR. \n",
    "2.    Change in its determinants (DL component) e.g. ARMAX. \n",
    "3.    Occurance of some random event (MA component) e.g. MA. \n",
    "4.    Learning, detrioration or growth component (Trend).\n"
   ]
  },
  {
   "cell_type": "markdown",
   "metadata": {
    "colab_type": "text",
    "id": "Nqkhlr3BzxVc"
   },
   "source": [
    "### 2. Preliminary Steps: Looking at the Data and its Trend Properties"
   ]
  },
  {
   "cell_type": "markdown",
   "metadata": {
    "colab_type": "text",
    "id": "DYHV6cQ4zhU4"
   },
   "source": [
    "Before you do anything, you want to look at the data.\n",
    "\n",
    "When doing so, you want to look at the properties of the data.\n",
    "\n",
    "**Exanple: Australian macroeconomic data from Quarter 3 1969 - Quarter 1 2019**\n",
    "*   Nominal GDP\n",
    "*   Stock of money\n",
    "*   Unemployment rate\n",
    "*   CPI/prices\n",
    "*   Short and long-term interest rates (3-month and 10-year Treasury bills)\n",
    "\n",
    "Time series can differ in their trend behaviour. Nominal GDP and nominal money **smoothly** increase at **exponential rate**. \n",
    "\n",
    "Prices smoothly increase **linearly**. \n",
    "\n",
    "The unemployment rate increases in the **first half**, but decreases in the second half. In addition, in the first half, the **volatility is increasing**, then in the second half, the volatility is lower relative to the first.\n",
    "\n",
    "Short and long-term interest rates have similar trends, where they are increasing in the first half and then a **large drop** and then **becomes relatively flat**. We also see that short-term interest rates are much more volatile than the long-term."
   ]
  },
  {
   "cell_type": "code",
   "execution_count": 2,
   "metadata": {},
   "outputs": [],
   "source": [
    "def parser(x):\r\n",
    "    return datetime.strptime(x, '%Y-%m-%d')"
   ]
  },
  {
   "cell_type": "code",
   "execution_count": 3,
   "metadata": {},
   "outputs": [
    {
     "data": {
      "text/html": "<div>\n<style scoped>\n    .dataframe tbody tr th:only-of-type {\n        vertical-align: middle;\n    }\n\n    .dataframe tbody tr th {\n        vertical-align: top;\n    }\n\n    .dataframe thead th {\n        text-align: right;\n    }\n</style>\n<table border=\"1\" class=\"dataframe\">\n  <thead>\n    <tr style=\"text-align: right;\">\n      <th></th>\n      <th>Date</th>\n      <th>CONS</th>\n      <th>NGDP</th>\n      <th>MONEY</th>\n      <th>PRICE</th>\n      <th>SHORT</th>\n      <th>LONG</th>\n      <th>URATE</th>\n      <th>WAGE</th>\n      <th>INVEST</th>\n    </tr>\n  </thead>\n  <tbody>\n    <tr>\n      <th>0</th>\n      <td>1969-07-01</td>\n      <td>53230000000.00</td>\n      <td>8845000000.00</td>\n      <td>14200000000.00</td>\n      <td>8.82</td>\n      <td>5.90</td>\n      <td>5.80</td>\n      <td>1.70</td>\n      <td>NaN</td>\n      <td>18026000000.00</td>\n    </tr>\n    <tr>\n      <th>1</th>\n      <td>1969-10-01</td>\n      <td>53980000000.00</td>\n      <td>9061000000.00</td>\n      <td>14500000000.00</td>\n      <td>8.82</td>\n      <td>5.65</td>\n      <td>5.88</td>\n      <td>1.90</td>\n      <td>NaN</td>\n      <td>18334000000.00</td>\n    </tr>\n    <tr>\n      <th>2</th>\n      <td>1970-01-01</td>\n      <td>54361000000.00</td>\n      <td>9285000000.00</td>\n      <td>14700000000.00</td>\n      <td>8.92</td>\n      <td>6.42</td>\n      <td>5.99</td>\n      <td>1.60</td>\n      <td>NaN</td>\n      <td>18093000000.00</td>\n    </tr>\n    <tr>\n      <th>3</th>\n      <td>1970-04-01</td>\n      <td>54996000000.00</td>\n      <td>9642000000.00</td>\n      <td>15000000000.00</td>\n      <td>9.01</td>\n      <td>8.80</td>\n      <td>6.88</td>\n      <td>1.70</td>\n      <td>NaN</td>\n      <td>18502000000.00</td>\n    </tr>\n    <tr>\n      <th>4</th>\n      <td>1970-07-01</td>\n      <td>55703000000.00</td>\n      <td>9705000000.00</td>\n      <td>15000000000.00</td>\n      <td>9.10</td>\n      <td>6.85</td>\n      <td>6.88</td>\n      <td>1.70</td>\n      <td>NaN</td>\n      <td>18324000000.00</td>\n    </tr>\n  </tbody>\n</table>\n</div>",
      "text/plain": "        Date           CONS          NGDP          MONEY  PRICE  SHORT  LONG  \\\n0 1969-07-01 53230000000.00 8845000000.00 14200000000.00   8.82   5.90  5.80   \n1 1969-10-01 53980000000.00 9061000000.00 14500000000.00   8.82   5.65  5.88   \n2 1970-01-01 54361000000.00 9285000000.00 14700000000.00   8.92   6.42  5.99   \n3 1970-04-01 54996000000.00 9642000000.00 15000000000.00   9.01   8.80  6.88   \n4 1970-07-01 55703000000.00 9705000000.00 15000000000.00   9.10   6.85  6.88   \n\n   URATE  WAGE         INVEST  \n0   1.70   NaN 18026000000.00  \n1   1.90   NaN 18334000000.00  \n2   1.60   NaN 18093000000.00  \n3   1.70   NaN 18502000000.00  \n4   1.70   NaN 18324000000.00  "
     },
     "execution_count": 3,
     "metadata": {},
     "output_type": "execute_result"
    }
   ],
   "source": [
    "series = pd.read_csv('../data/raw/macro.csv', parse_dates = [0], date_parser = parser)\r\n",
    "pd.options.display.float_format = '{:.2f}'.format\r\n",
    "series.head()"
   ]
  },
  {
   "cell_type": "code",
   "execution_count": 4,
   "metadata": {
    "colab": {
     "base_uri": "https://localhost:8080/",
     "height": 420
    },
    "colab_type": "code",
    "executionInfo": {
     "elapsed": 1341,
     "status": "ok",
     "timestamp": 1570163052013,
     "user": {
      "displayName": "Max Ruan",
      "photoUrl": "",
      "userId": "18331083944507779933"
     },
     "user_tz": -600
    },
    "id": "gGKtNzJEqleo",
    "outputId": "ca7e677e-0236-41c2-b6a0-9c4824092cda"
   },
   "outputs": [
    {
     "data": {
      "image/png": "[encoded data removed]",
      "text/plain": "<Figure size 432x288 with 1 Axes>"
     },
     "metadata": {
      "needs_background": "light"
     },
     "output_type": "display_data"
    }
   ],
   "source": [
    "plt.plot(series['Date'], series['NGDP'])\r\n",
    "graph = plt.xlabel('Date', fontsize=12)\r\n",
    "graph = plt.title('NGDP', fontsize=12)"
   ]
  },
  {
   "cell_type": "markdown",
   "metadata": {
    "colab_type": "text",
    "id": "oN1-yosozS2q"
   },
   "source": [
    "### 3. Combining Series, Mean Stationarity and Cointegration"
   ]
  },
  {
   "cell_type": "markdown",
   "metadata": {
    "colab_type": "text",
    "id": "n-2pz7xgQ2oa"
   },
   "source": [
    "We can also **combine** and create additional series. For example, Real GDP is defined as the nominal GDP divided by the price level. \n",
    "\n",
    "We notice that Real GDP and NGDP both trend upwards, but NGDP appears to be relatively more smooth."
   ]
  },
  {
   "cell_type": "code",
   "execution_count": 5,
   "metadata": {
    "colab": {
     "base_uri": "https://localhost:8080/",
     "height": 298
    },
    "colab_type": "code",
    "executionInfo": {
     "elapsed": 872,
     "status": "ok",
     "timestamp": 1570163060024,
     "user": {
      "displayName": "Max Ruan",
      "photoUrl": "",
      "userId": "18331083944507779933"
     },
     "user_tz": -600
    },
    "id": "-1vHJKHPQze4",
    "outputId": "86e2e22b-5a5f-4b62-d959-f59996da28ac"
   },
   "outputs": [
    {
     "data": {
      "image/png": "[encoded data removed]",
      "text/plain": "<Figure size 432x288 with 1 Axes>"
     },
     "metadata": {
      "needs_background": "light"
     },
     "output_type": "display_data"
    }
   ],
   "source": [
    "series['SPREAD'] = series['LONG'] - series['SHORT']\r\n",
    "series['RGDP'] = series['NGDP']/series['PRICE']\r\n",
    "plt.plot(series['Date'], series['RGDP'])\r\n",
    "graph = plt.xlabel('Date', fontsize=12)\r\n",
    "graph = plt.title('RGDP', fontsize=12)"
   ]
  },
  {
   "cell_type": "code",
   "execution_count": 6,
   "metadata": {
    "colab": {
     "base_uri": "https://localhost:8080/",
     "height": 298
    },
    "colab_type": "code",
    "executionInfo": {
     "elapsed": 749,
     "status": "ok",
     "timestamp": 1570163062977,
     "user": {
      "displayName": "Max Ruan",
      "photoUrl": "",
      "userId": "18331083944507779933"
     },
     "user_tz": -600
    },
    "id": "jXo5DwinR2nm",
    "outputId": "c89807af-8c06-476f-c8ae-7c89d8d7484e"
   },
   "outputs": [
    {
     "data": {
      "image/png": "[encoded data removed]",
      "text/plain": "<Figure size 432x288 with 1 Axes>"
     },
     "metadata": {
      "needs_background": "light"
     },
     "output_type": "display_data"
    }
   ],
   "source": [
    "plt.plot(series['Date'], series['SPREAD'])\r\n",
    "graph = plt.xlabel('Date', fontsize=12)\r\n",
    "plt.axhline(y = series['SPREAD'].mean(), color = 'r', linestyle = '-')\r\n",
    "graph = plt.title('SPREAD', fontsize=12)"
   ]
  },
  {
   "cell_type": "markdown",
   "metadata": {
    "colab_type": "text",
    "id": "B1fLjPRLSAWW"
   },
   "source": [
    "Whilst the two individual series have trends, the spread is not trending. In other words, I can draw a horizontal line and say it hovers around or reverts back to this line. Formally, this series is **stationary in the mean**.\n",
    "\n",
    "When you have two series that are non-stationary but the difference between them is stationary, that these series are **co-integrated**.\n",
    "\n"
   ]
  },
  {
   "cell_type": "markdown",
   "metadata": {
    "colab_type": "text",
    "id": "Nbun3NJYzH2c"
   },
   "source": [
    "### 4. Methods to Achieve Stationarity: Combining and Filtering"
   ]
  },
  {
   "cell_type": "markdown",
   "metadata": {
    "colab_type": "text",
    "id": "3PzkFXIbWRLa"
   },
   "source": [
    "We have **two ways** of obtaining series that are stationary from non-stationary series.\n",
    "\n",
    "\n",
    "1.    We combine series and find co-integration\n",
    "2.    We transform/filter out trends and changing volatility\n",
    "\n"
   ]
  },
  {
   "cell_type": "markdown",
   "metadata": {
    "colab_type": "text",
    "id": "P-uJosC9zDK3"
   },
   "source": [
    "### 5. Logarithmic Filters"
   ]
  },
  {
   "cell_type": "markdown",
   "metadata": {
    "colab_type": "text",
    "id": "DVNydaMcTESU"
   },
   "source": [
    "Other than combining series, we can also **filter** or transform these series.\n",
    "\n",
    "A common filter is the **logarithmic filter**, which is taking the natural log of a series. Why?\n",
    "1.   Capture nonlinearities (turn non-linear trends into linear trends) i.e. If we can forecast the log of a variable, we can un-log it to forecast the variable itself!\n",
    "2.   Correct for changing volatility (big movements are dampened more than smaller movements)"
   ]
  },
  {
   "cell_type": "code",
   "execution_count": 7,
   "metadata": {
    "colab": {
     "base_uri": "https://localhost:8080/",
     "height": 298
    },
    "colab_type": "code",
    "executionInfo": {
     "elapsed": 724,
     "status": "ok",
     "timestamp": 1570163073746,
     "user": {
      "displayName": "Max Ruan",
      "photoUrl": "",
      "userId": "18331083944507779933"
     },
     "user_tz": -600
    },
    "id": "ISx4xj6gTDlv",
    "outputId": "f0b5c5b1-5548-432a-9e9b-610d3e4fc49d"
   },
   "outputs": [
    {
     "data": {
      "image/png": "[encoded data removed]",
      "text/plain": "<Figure size 432x288 with 1 Axes>"
     },
     "metadata": {
      "needs_background": "light"
     },
     "output_type": "display_data"
    }
   ],
   "source": [
    "GDP = pd.DataFrame()\r\n",
    "GDP['LRGDP'] = np.log(series['RGDP']) #Logging negative values is undefined\r\n",
    "plt.plot(series['Date'], GDP['LRGDP'])\r\n",
    "graph = plt.xlabel('Date', fontsize=12)\r\n",
    "graph = plt.title('LRGDP', fontsize=12)"
   ]
  },
  {
   "cell_type": "markdown",
   "metadata": {
    "colab_type": "text",
    "id": "QKgIBTCaywvS"
   },
   "source": [
    "### 6. First and Second Difference Filters"
   ]
  },
  {
   "cell_type": "markdown",
   "metadata": {
    "colab_type": "text",
    "id": "cx8DQZmtVG8V"
   },
   "source": [
    "A second important filter is the **first difference filter**, which takes the difference in the current and previous (past) value i.e. look at the change in the variable. \n",
    ">$\\Delta y_t=y_t - y_{t-1}$\n",
    "\n",
    "Why? We can now account for and remove trends, so that we can obtain stationarity in the mean.\n",
    "\n",
    "\n"
   ]
  },
  {
   "cell_type": "code",
   "execution_count": 8,
   "metadata": {
    "colab": {
     "base_uri": "https://localhost:8080/",
     "height": 298
    },
    "colab_type": "code",
    "executionInfo": {
     "elapsed": 832,
     "status": "ok",
     "timestamp": 1570163080195,
     "user": {
      "displayName": "Max Ruan",
      "photoUrl": "",
      "userId": "18331083944507779933"
     },
     "user_tz": -600
    },
    "id": "5O0I5MJfVc_g",
    "outputId": "3fbefd50-c147-43b0-82bb-1e3a1725affc"
   },
   "outputs": [
    {
     "data": {
      "image/png": "[encoded data removed]",
      "text/plain": "<Figure size 432x288 with 1 Axes>"
     },
     "metadata": {
      "needs_background": "light"
     },
     "output_type": "display_data"
    }
   ],
   "source": [
    "GDP['DLRGDP'] = GDP['LRGDP'].diff()\r\n",
    "plt.plot(series['Date'], GDP['DLRGDP'])\r\n",
    "graph = plt.xlabel('Date', fontsize=12)\r\n",
    "plt.axhline(y = GDP['DLRGDP'].mean(), color = 'r', linestyle = '-')\r\n",
    "graph = plt.title('DLRGDP', fontsize=12)"
   ]
  },
  {
   "cell_type": "markdown",
   "metadata": {
    "colab_type": "text",
    "id": "ctdat4X6s7G7"
   },
   "source": [
    "There are additional differencing filters e.g. **second difference filter** i.e. first difference of the first difference, can be performed in one step:\n",
    "\n",
    ">$\\Delta^2 y_t=\\Delta y_t - \\Delta y_{t-1}$\n",
    ">$=y_t -2y_{t-1} + y_{t+2}$\n",
    "\n",
    "Why second differencing? A lot of nominal macroeconomic data such as nominal price, wages, GDP, money, etc. generally requires differencing twice to achieve stationarity."
   ]
  },
  {
   "cell_type": "markdown",
   "metadata": {
    "colab_type": "text",
    "id": "MRcO3tGFy8Td"
   },
   "source": [
    "### 7. Seasonal Difference Filters"
   ]
  },
  {
   "cell_type": "markdown",
   "metadata": {
    "colab_type": "text",
    "id": "0biQhoA6ti8A"
   },
   "source": [
    "You can also do **seasonal difference filters**. Seasonality is when a variable is relatively high/low at certain times e.g. certain quarters of months. To account for his, you calculate the difference between the same month in different years for example.\n",
    "\n",
    "If you had quarterly data, annual changes would involve difference the same quarter last year:\n",
    ">$y_t - y_{t-4}$\n",
    "\n",
    "If you had monthly data, you would do:\n",
    ">$y_t - y_{t-12}$\n",
    "\n",
    "Suppose you wanted to compute a weekly change with daily data would involve:\n",
    ">$y_t - y_{t-5}$"
   ]
  },
  {
   "cell_type": "markdown",
   "metadata": {
    "colab_type": "text",
    "id": "L8e-8URvyj8z"
   },
   "source": [
    "### 8. Moving Average (MA) Filters"
   ]
  },
  {
   "cell_type": "markdown",
   "metadata": {
    "colab_type": "text",
    "id": "YTz38aJBvlk_"
   },
   "source": [
    "There are also **Moving Average filters**. This has an effect of smoothing fluctuations in the data.\n",
    "\n",
    "Third order MA filter averages 3 observations:\n",
    ">$MA(3) = (y_t + y_{t-1} + y_{t-2})/3$\n",
    "\n",
    "Fifth order MA filter averages 5 observations:\n",
    ">$MA(5) = (y_t + y_{t-1} + y_{t-2} + y_{t-3} + y_{t-4})/5$\n",
    "\n",
    "Moving averages are often **centered**.\n",
    ">$MA(3) = (y_{t+1} + y_{t} + y_{t-1})/3$\n",
    "\n"
   ]
  },
  {
   "cell_type": "markdown",
   "metadata": {
    "colab_type": "text",
    "id": "IZ3BMipayUMm"
   },
   "source": [
    "### 9. Power Filters"
   ]
  },
  {
   "cell_type": "markdown",
   "metadata": {
    "colab_type": "text",
    "id": "5aiQbJ0oxBBw"
   },
   "source": [
    "The **square filter** is used to **detect changes in volatility** in financial markets because you go from mean to variance analysis:\n",
    ">$x_t = y^2_t$\n",
    "\n",
    "The **cubic filter** is used to detect changes in **skewness** over time:\n",
    ">$x_t = y^3_t$\n",
    "\n",
    "The **quartic filter** is used to detect changes in **kurtosis** over time:\n",
    ">$x_t = y^4_t$\n"
   ]
  },
  {
   "cell_type": "markdown",
   "metadata": {
    "colab_type": "text",
    "id": "BBgdeS89JIXf"
   },
   "source": [
    "### Filter Examples"
   ]
  },
  {
   "cell_type": "code",
   "execution_count": 9,
   "metadata": {
    "colab": {
     "base_uri": "https://localhost:8080/",
     "height": 34
    },
    "colab_type": "code",
    "executionInfo": {
     "elapsed": 766,
     "status": "ok",
     "timestamp": 1570163097138,
     "user": {
      "displayName": "Max Ruan",
      "photoUrl": "",
      "userId": "18331083944507779933"
     },
     "user_tz": -600
    },
    "id": "CT-SA5BCyCiC",
    "outputId": "311c105c-8226-42d2-8d34-b1ad441fa2b7"
   },
   "outputs": [
    {
     "name": "stderr",
     "output_type": "stream",
     "text": [
      "C:\\Users\\Max Ruan\\AppData\\Local\\Programs\\Python\\Python38\\lib\\site-packages\\pandas\\core\\arraylike.py:397: RuntimeWarning: invalid value encountered in log\n",
      "  result = getattr(ufunc, method)(*inputs, **kwargs)\n"
     ]
    }
   ],
   "source": [
    "spread = pd.DataFrame()\r\n",
    "#First-difference filter\r\n",
    "spread['DSPREAD'] = series['SPREAD'].diff()\r\n",
    "#Second-difference filter\r\n",
    "spread['D2SPREAD'] = spread['DSPREAD'].diff()\r\n",
    "#Seasonal-difference filter (annual change)\r\n",
    "spread['SPREAD_SEASONAL'] = series['SPREAD'][4:] - series['SPREAD'][:-4]\r\n",
    "#3rd order moving average (MA) filter\r\n",
    "spread['SPREAD_MA3'] = (series['SPREAD'][2:] + series['SPREAD'][1:-1] + series['SPREAD'][:-2])/3\r\n",
    "#Square filter (volatility)\r\n",
    "spread['SPREAD_P2'] = (series['SPREAD'])**2\r\n",
    "#Cubic filter (skewness)\r\n",
    "spread['SPREAD_P3'] = (series['SPREAD'])**3\r\n",
    "#Quartic filter (kurtosis)\r\n",
    "spread['SPREAD_P4'] = (series['SPREAD'])**4\r\n",
    "#Squared demeaned filter\r\n",
    "spread['SPREAD2'] = (series['SPREAD'] - series['SPREAD'].mean())**2\r\n",
    "#Absolute demeaned filter\r\n",
    "spread['SPREAD_ABS'] = abs(series['SPREAD'] - series['SPREAD'].mean())\r\n",
    "#2-period moving sum filter\r\n",
    "spread['SPREAD3'] = series['SPREAD'][1:] + series['SPREAD'][:-1]\r\n",
    "#Log filter\r\n",
    "spread['LSPREAD'] = np.log(series['SPREAD']) #Logging negative values is undefined"
   ]
  },
  {
   "cell_type": "markdown",
   "metadata": {
    "colab_type": "text",
    "id": "1VhfDaMY0Mpb"
   },
   "source": [
    "### 10. Lag Operators"
   ]
  },
  {
   "cell_type": "markdown",
   "metadata": {
    "colab_type": "text",
    "id": "cp-qpRqn0f4P"
   },
   "source": [
    "We define L as the lag operator. A convenient way to represent filters and combining filters.\n",
    "\n",
    "1 lag:\n",
    ">$y_{t-1} = Ly_t$\n",
    "\n",
    "2 lags:\n",
    ">$y_{t-2} = L^2y_t$\n",
    "\n",
    "k lags:\n",
    ">$y_{t-k} = L^ky_t$\n",
    "\n",
    "Thus, a first difference filter using lag operators is:\n",
    ">$y_t - y_{t-1} = y_t - Ly_t = (1-L)y_t$\n",
    "\n",
    "It is also possible to have future values represented, using negative values of k:\n",
    ">$y_{t+k} = L^{-k}y_t$\n",
    "\n",
    "Useful for centered MA(3) filters for example."
   ]
  },
  {
   "cell_type": "markdown",
   "metadata": {
    "colab_type": "text",
    "id": "o7hbAyJ03Aht"
   },
   "source": [
    "### 11. Stationarity and Methods to Identify Stationarity"
   ]
  },
  {
   "cell_type": "markdown",
   "metadata": {
    "colab_type": "text",
    "id": "34eJi6fG3D2V"
   },
   "source": [
    "(Covariance) Stationarity is an important concept in time series analysis. \n",
    "\n",
    "3 ways to identify stationarity:\n",
    "1.   Graphical \n",
    "\n",
    "*   If the series **reverts around a horizontal line**, it is **stationary in the mean**, if the series' **volatility is constant over time**, it is **stationary in the variance**\n",
    "*   If it trends up or downwards, not stationary\n",
    "*   If volatility increases or decreases over the sample, not stationary\n",
    "\n",
    "\n",
    "\n",
    "2.   Statistical \n",
    "*   If the **unconditional moments** i.e. mean, variance (specific case) and autocovariances (general case) are **not a function of time**\n",
    "*   $\\mu = E(y_t)\\neq f(t)$\n",
    "*   $\\gamma_0 = E(y_t - \\mu)^2\\neq f(t)$\n",
    "*   $\\gamma_k = E(y_t - \\mu)(y_{t-k}-\\mu)\\neq f(t)$\n",
    "3.   Impulse Analysis\n",
    "\n",
    "*   We check if a shock in the series eventually dies out \n",
    "*   Consider the AR(1) model: $y_t = \\phi_0 + \\phi_1 y_{t-1} + u_t$\n",
    "*   The effect pf a shock $u_t$ on $y_t$ is 1-to-1 i.e. If the shock is equal to positive 1, this increases $y_t$ by 1\n",
    "*    In the next period, $y_{t+1} = \\phi_0 + \\phi_1 y_{t} + u_{t+1}$, this tells us that the effect of $u_t$ on $y_{t+1}$ is $\\phi_1$\n",
    "*    We should expect that $\\phi_0 < 1$ where it has a **diminishing effect** on $y_t$ if it is **stationary**\n",
    "\n",
    "We typically look at covariance stationarity (first 2 moments are stationary). Strict stationary if all of the momennts are stationary. \n",
    "\n",
    "If a series is normally distributed, then it is strictly stationary if it is covariance stationary (because the distribution is defined by only 2 moments). \n",
    "\n",
    "Nonstationarity means if one of the moments (mean or variance) are functions of time.\n",
    "\n",
    "**Why do we care about having stationarity?** We want to know what a variable's expected value, variance and correlation between other variable in different periods. \n",
    "We calculate this using a mean across many time periods - but this is only informative if the expected value is the same across those time periods. If everything is different in the past, then its impossible to forecast tomorrow. But if we find something that is the same in the past, then we may know that its the same in the future.\n",
    "\n",
    "Stationarity requires a finite and time-invariant mean, variance and covariance. Non-stationarities can come from deterministic changes (like trend, seasonality/cycles) or stochastic properties (like unit root). Non-stationarity data as a rule are unpredictable and cannot be modeled or forecasted. Results obtained by using non-stationary time seires may be spurious/useless. Hence, non-stationary data may need to be transformed into stationary data through filtering methods.\n",
    "\n",
    "A unit root implies non-stationarity (even if the process is stationarity in the mean). This is because the moments of the process depend on time and are thus time-varying. For example, if we have an AR(1) process where we have a unit root, the variance of the process at 't' is equal to the unconditional variance multiplied by 't'. Note that the variance of the series is diverging to infinity with 't'.\n",
    "\n",
    "How to identify non-stationarity? 1. Deterministic trends can be identified visually and can be taken into account using detrending it (-beta times t).\n",
    "\n",
    "1. Graphical: Is there a trend? Do you see if variances are different in different periods? Check the random subperiod tests. 2. Check if there is no unit root (1 type of non-stationarity). 3. Check KPSS test for evidence against stationarity. 4. Check ACF rapid decay. Make overall weighted average conclusions.\n"
   ]
  },
  {
   "cell_type": "markdown",
   "metadata": {
    "colab_type": "text",
    "id": "Ms2sUDR6zipA"
   },
   "source": [
    "### 12. Autocorrelation Function (ACF) and Statistically Testing for ith Order Autocorrelation "
   ]
  },
  {
   "cell_type": "markdown",
   "metadata": {
    "colab_type": "text",
    "id": "-gsTs3sjznJQ"
   },
   "source": [
    "The ACF computes the correlation between a variable itself $p$ lags ago.\n",
    "\n",
    "Done by running the regression (OLS):\n",
    "$y_t = \\phi_0 +\\phi_1 y_{t-i} +u_t$\n",
    "\n",
    "Where $u_t$ is the error term, normally distributed $u_t \\sim N(0,\\sigma^2_u)$\n",
    "\n",
    "We obtain the sample autocorrelation estimate $\\hat  \\phi_i $\n",
    "\n",
    "The ACF runs the regression for 1 lag, 2 lags, 3 lags,... and collects the correlations ($\\phi_i$ parameters) and plots it against each lag. \n",
    "\n",
    "We would want to test if the coefficients are statistically significant. \n",
    "*   Null: $H_0:\\phi_i = 0$\n",
    "*   Alternative: $H_0: \\phi_i \\ne 0$\n",
    "\n",
    "The sample autocorrelations are distributed asymptotically as $\\hat  \\phi_i \\sim N(0,1/T)$ where $T$ is the sample size.\n",
    "\n",
    "The test statistic is thus:\n",
    "\n",
    "$\\sqrt{T} \\hat  \\phi_i \\sim N(0,1)$\n",
    "\n",
    "At the 5% level, the critical value is 1.96 (p-value is 0.05). If the test statistic is greater than 1.96 (p-value is less than 0.05) than we reject the null at the 5% level and choose the alternative hypothesis.\n",
    "\n",
    "In regards to the ACF, a **stationary process should exhibit a rapidly decaying ACF**. We may see if a series is non-stationary if it does not converge to 0 or if it does not converge at a 'rapid enough' rate.\n",
    "\n"
   ]
  },
  {
   "cell_type": "code",
   "execution_count": 10,
   "metadata": {
    "colab": {
     "base_uri": "https://localhost:8080/",
     "height": 281
    },
    "colab_type": "code",
    "executionInfo": {
     "elapsed": 607,
     "status": "ok",
     "timestamp": 1570163134378,
     "user": {
      "displayName": "Max Ruan",
      "photoUrl": "",
      "userId": "18331083944507779933"
     },
     "user_tz": -600
    },
    "id": "0tyS1dPGrdvK",
    "outputId": "7b783269-cb72-4fbe-b241-a28e4d7ed8bc"
   },
   "outputs": [
    {
     "data": {
      "image/png": "[encoded data removed]",
      "text/plain": "<Figure size 432x288 with 1 Axes>"
     },
     "metadata": {
      "needs_background": "light"
     },
     "output_type": "display_data"
    }
   ],
   "source": [
    "variable = spread['D2SPREAD']\r\n",
    "acfplot = plot_acf(variable[pd.Series.first_valid_index(variable):], alpha = .05, zero = False)"
   ]
  },
  {
   "cell_type": "code",
   "execution_count": 11,
   "metadata": {
    "colab": {
     "base_uri": "https://localhost:8080/",
     "height": 255
    },
    "colab_type": "code",
    "executionInfo": {
     "elapsed": 752,
     "status": "ok",
     "timestamp": 1570163142108,
     "user": {
      "displayName": "Max Ruan",
      "photoUrl": "",
      "userId": "18331083944507779933"
     },
     "user_tz": -600
    },
    "id": "uzr5VwPlr_K9",
    "outputId": "93457cba-0ee3-49cf-fd2f-bf61a2d1e2d6"
   },
   "outputs": [
    {
     "name": "stdout",
     "output_type": "stream",
     "text": [
      "Critical value ACF 5% level: 0.1389\n"
     ]
    },
    {
     "data": {
      "text/html": "<div>\n<style scoped>\n    .dataframe tbody tr th:only-of-type {\n        vertical-align: middle;\n    }\n\n    .dataframe tbody tr th {\n        vertical-align: top;\n    }\n\n    .dataframe thead th {\n        text-align: right;\n    }\n</style>\n<table border=\"1\" class=\"dataframe\">\n  <thead>\n    <tr style=\"text-align: right;\">\n      <th></th>\n      <th>Lag</th>\n      <th>AC</th>\n      <th>PAC</th>\n      <th>Q-Statistic</th>\n      <th>P-Value</th>\n    </tr>\n  </thead>\n  <tbody>\n    <tr>\n      <th>0</th>\n      <td>1</td>\n      <td>-0.4099</td>\n      <td>-0.4101</td>\n      <td>33.6129</td>\n      <td>0.0000</td>\n    </tr>\n    <tr>\n      <th>1</th>\n      <td>2</td>\n      <td>-0.1632</td>\n      <td>-0.3997</td>\n      <td>38.9676</td>\n      <td>0.0000</td>\n    </tr>\n    <tr>\n      <th>2</th>\n      <td>3</td>\n      <td>-0.0557</td>\n      <td>-0.4431</td>\n      <td>39.5947</td>\n      <td>0.0000</td>\n    </tr>\n    <tr>\n      <th>3</th>\n      <td>4</td>\n      <td>0.3245</td>\n      <td>-0.0081</td>\n      <td>60.9845</td>\n      <td>0.0000</td>\n    </tr>\n    <tr>\n      <th>4</th>\n      <td>5</td>\n      <td>-0.1809</td>\n      <td>-0.0891</td>\n      <td>67.6693</td>\n      <td>0.0000</td>\n    </tr>\n  </tbody>\n</table>\n</div>",
      "text/plain": "   Lag      AC     PAC  Q-Statistic  P-Value\n0    1 -0.4099 -0.4101      33.6129   0.0000\n1    2 -0.1632 -0.3997      38.9676   0.0000\n2    3 -0.0557 -0.4431      39.5947   0.0000\n3    4  0.3245 -0.0081      60.9845   0.0000\n4    5 -0.1809 -0.0891      67.6693   0.0000"
     },
     "execution_count": 11,
     "metadata": {},
     "output_type": "execute_result"
    }
   ],
   "source": [
    "acfresults = acf(variable[pd.Series.first_valid_index(variable):], nlags = 30, qstat = True, alpha = .05)\r\n",
    "pacfresults = pacf(variable[pd.Series.first_valid_index(variable):], nlags = 30, method = 'ols', alpha = .05)\r\n",
    "correlogram = pd.DataFrame(columns = ['Lag','AC', 'PAC', 'Q-Statistic', 'P-Value'])\r\n",
    "np.set_printoptions(precision=3, suppress=True)\r\n",
    "correlogram['Lag'] = range(1, 31)\r\n",
    "correlogram['AC'] = acfresults[0][1:]\r\n",
    "correlogram['PAC'] = pacfresults[0][1:]\r\n",
    "correlogram['Q-Statistic'] = acfresults[2]\r\n",
    "correlogram['P-Value'] = acfresults[3]\r\n",
    "pd.options.display.float_format = '{:.4f}'.format\r\n",
    "print(\"Critical value ACF 5% level: {:.4f}\".format(1.96/(len(variable))**0.5))\r\n",
    "correlogram.head()"
   ]
  },
  {
   "cell_type": "markdown",
   "metadata": {
    "colab_type": "text",
    "id": "gpG7uyxT2ANs"
   },
   "source": [
    "### 13. Partial Autocorrelation Function (PACF) and Partial Autocorrelation Test"
   ]
  },
  {
   "cell_type": "markdown",
   "metadata": {
    "colab_type": "text",
    "id": "nU7m3xEL2EY6"
   },
   "source": [
    "The PACF computes the correlation between a variable itself $p$ lags ago, **given that intermediate lags are included**.\n",
    "\n",
    "Done by running the regression (OLS):\n",
    "$y_t = \\phi_0 +\\phi_{1i} y_{t-1} + \\phi_{2i} y_{t-2} + ... + \\phi_{pi} y_{t-p}  +u_t$\n",
    "\n",
    "Where $u_t$ is the error term, normally distributed $u_t \\sim N(0,\\sigma^2_u)$\n",
    "\n",
    "We obtain the sample autocorrelation estimate $\\hat  \\phi_{ii} $\n",
    "\n",
    "The ACF runs the regression for 1 lag, 2 lags, 3 lags,... and collects the correlations ($\\phi_{ii}$ parameters) and plots it against each lag. \n",
    "\n",
    "We would want to test if the coefficients are statistically significant. \n",
    "*   Null: $H_0:\\phi_{ii} = 0$\n",
    "*   Alternative: $H_0: \\phi_{ii} \\ne 0$\n",
    "\n",
    "The sample autocorrelations are distributed asymptotically (the same as ACF regression) as $\\hat  \\phi_i \\sim N(0,1/T)$ where $T$ is the sample size.\n",
    "\n",
    "The test statistic is thus:\n",
    "\n",
    "$\\sqrt{T} \\hat  \\phi_i \\sim N(0,1)$\n",
    "\n",
    "At the 5% level, the critical value is 1.96 (p-value is 0.05). If the test statistic is greater than 1.96 (p-value is less than 0.05) than we reject the null at the 5% level and choose the alternative hypothesis.\n",
    "\n",
    "A PACF is good for telling us what order AR process may best fit the series.\n",
    "\n",
    "We think of ACF and PACF as **prelimary checks** of the series before thinking about modelling."
   ]
  },
  {
   "cell_type": "code",
   "execution_count": 12,
   "metadata": {
    "colab": {
     "base_uri": "https://localhost:8080/",
     "height": 315
    },
    "colab_type": "code",
    "executionInfo": {
     "elapsed": 578,
     "status": "ok",
     "timestamp": 1570163153537,
     "user": {
      "displayName": "Max Ruan",
      "photoUrl": "",
      "userId": "18331083944507779933"
     },
     "user_tz": -600
    },
    "id": "iR3MqjBJr6hc",
    "outputId": "ecc1f0ec-98a2-4054-ff88-4aea2c6a980e"
   },
   "outputs": [
    {
     "name": "stderr",
     "output_type": "stream",
     "text": [
      "C:\\Users\\Max Ruan\\AppData\\Local\\Programs\\Python\\Python38\\lib\\site-packages\\statsmodels\\graphics\\tsaplots.py:348: FutureWarning: The default method 'yw' can produce PACF values outside of the [-1,1] interval. After 0.13, the default will change tounadjusted Yule-Walker ('ywm'). You can use this method now by setting method='ywm'.\n",
      "  warnings.warn(\n"
     ]
    },
    {
     "data": {
      "image/png": "[encoded data removed]",
      "text/plain": "<Figure size 432x288 with 1 Axes>"
     },
     "metadata": {
      "needs_background": "light"
     },
     "output_type": "display_data"
    }
   ],
   "source": [
    "pacfplot = plot_pacf(variable[pd.Series.first_valid_index(variable):], alpha = .05, zero = False)"
   ]
  },
  {
   "cell_type": "markdown",
   "metadata": {
    "colab_type": "text",
    "id": "Kyn5ZYe13Hlx"
   },
   "source": [
    "### 14. Slutsky Effect and Long Swing Hypothesis"
   ]
  },
  {
   "cell_type": "markdown",
   "metadata": {
    "colab_type": "text",
    "id": "Wb3mtlG_n_ZX"
   },
   "source": [
    "Long Swing Hypothesis: A lot of economic variables seem to exhibited a very long cycle (of 20 years), identified by applying 2 filters (5-year MA and 5-year centered first difference). The lessons are to be **weary of MA filters**. Expanding the lag operators, we see that the effective filter is a restricted centered **15-year MA filter**. \n",
    "\n",
    "The issue is that a (random) white noise process (simulated from N(0,1)) after applying this filter appears to have **strong evidence of cycles!**  \n",
    "\n",
    "ACF and PACF: Original series both have flat results. We see cyclical results in ACF and significant spikes in PACF. i.e. Cycles were generated from the filters he used. "
   ]
  }
 ],
 "metadata": {
  "language_info": {
   "name": "python",
   "nbconvert_exporter": "python"
  },
  "orig_nbformat": 2
 },
 "nbformat": 4,
 "nbformat_minor": 2
}