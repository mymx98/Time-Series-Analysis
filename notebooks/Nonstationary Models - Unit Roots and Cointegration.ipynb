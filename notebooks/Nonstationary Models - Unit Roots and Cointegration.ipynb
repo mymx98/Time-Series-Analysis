{
 "cells": [
  {
   "cell_type": "markdown",
   "metadata": {
    "colab_type": "text",
    "id": "vHXAmUqYeqXR"
   },
   "source": [
    "### Week 7 - Nonstationary Models: Unit Roots"
   ]
  },
  {
   "cell_type": "markdown",
   "metadata": {
    "colab_type": "text",
    "id": "aPDHeUPznx08"
   },
   "source": [
    "VAR variables are actually non-stationary.\n",
    "\n",
    "The question: can you estimate a model that is non-stationary? Depends on co-integration.\n",
    "\n",
    "We first test formally for non-stationary."
   ]
  },
  {
   "cell_type": "markdown",
   "metadata": {
    "colab_type": "text",
    "id": "ME6Vgx9Qe1nd"
   },
   "source": [
    "### 1. Random Walks vs. Trend Stationarity"
   ]
  },
  {
   "cell_type": "markdown",
   "metadata": {
    "colab_type": "text",
    "id": "012FSSsmoKID"
   },
   "source": [
    "Two different models of non-stationary.\n",
    "\n",
    "We typically have variable non-stationarity of a random-walk type.\n",
    "\n",
    "We have previously looked at stationary in the mean or variance or higher moments such as skewness.\n",
    "\n",
    "\n",
    "2 broad methods for generating non-stationarity series:\n",
    "1.   Deterministic time trend (adds linear line going up $y_t = \\alpha + \\beta TREND_t + u_t$)\n",
    "2.   Random walk without drift ($y_t = y_{t-1} + u_t$) and with drift ($y_t = \\phi_0 + y_{t-1} + u_t$), stationary in the mean (without drift), non-stationary in the variance, non-stationary in the mean (with drift)\n",
    "\n",
    "E.g. With AR(1) model, if $\\phi_1 = 1$, then the model appears to be a random walk with drift. Models thus are nonstationary if this is very close to 1.\n",
    "\n",
    "We can generate models and get numbers close to 1. Is it due to standard error or is it statistically smaller than 1? We need a formal test.\n",
    "\n",
    "Nelson-Plosser said that almost all macro variables have the form of a random walk, rather than have a deterministic trend - this changes the way we analyse variables.\n",
    "\n",
    "What is the implication if we have a random walk variable?\n",
    "\n",
    "\n",
    "*   Forecasting: when you take conditional expectations and use OLS/MLE estimates for random walk with drift, we get $\\hat y_{t+h} = y_t + H\\hat \\phi_0$, forecast simply follows a linear time trend, without drift, you prediction is always $y_t$, which effectively tells you efficient market hypothesis - all public information is included in the current price \n",
    "\n",
    "Integradedness: How many times you first difference a variable to achieve stationarity\n",
    "*   I(1) non-stationary and random walk, differencing once to achieve stationarity\n",
    "*   I(0) already stationary\n",
    "*   I(2) differencing twice to achieve stationary, graphically more smoothly evolving, e.g. nominal economic series\n",
    "\n",
    "Random walk requires differencing once. \n",
    "\n",
    "There is no evidence that any economic series are I(3) or higher.\n",
    "\n",
    "\n",
    "\n",
    "\n"
   ]
  },
  {
   "cell_type": "markdown",
   "metadata": {
    "colab_type": "text",
    "id": "LtGpRfXge5-J"
   },
   "source": [
    "### 2. Unit Root Tests and Testing Different Order Nonstationarity"
   ]
  },
  {
   "cell_type": "markdown",
   "metadata": {
    "colab_type": "text",
    "id": "5iQXyE-AtIuC"
   },
   "source": [
    "We want to test for an AR(1) model if there is a unit root/nonstationarity.\n",
    "\n",
    "Null: = 1 i.e. I(1) / nonstationary\n",
    "Alternative: < 1 i.e. I(0) stationary\n",
    "\n",
    "Test by:\n",
    "*   Estimate AR(1) model\n",
    "*   Conduct t-test ($tstat = \\frac{\\hat \\phi_1 - 1}{se(\\hat \\phi_1)}$)\n",
    "*   However: this statistic does not follow a student-t distribution or normal distribution under the null hypothesis, the tables you choose depend on the null hypothesis, which is nonstationary, distribution of the D-F statistic is non-standard, the correct distribution is the D-F distribution, negatively skewed\n",
    "*   Look up the right p-value under the D-F distribution\n",
    "\n",
    "D-F Test:\n",
    "*   Start with AR(1) model\n",
    "*   Subtract $y_{t-1}$ from both sides, now the coefficient given unit root is 0\n",
    "*   This means we can now test for statistical significance and use the right p-value because Eviews automatically choosing the unit root test statistic and p-value\n",
    "*   Standard errors of the transformed coefficients are the same because we only did a linear transformation $se(\\hat \\phi_1) = se(\\hat \\beta)$\n",
    "*   Null is beta = 0 and beta being less than 0.\n",
    "*   Note: standard errors don't change, nor tstat value, p-value is incorrect (pick the right distribution for the t-statistic)\n",
    "*   In addition, D-F test assumes errors are white noise, but we fit a AR(1) model, without testing lags and fit, unlikely to meet this assumption\n",
    "\n",
    "Augmented D-F Test:\n",
    "*   Start with the VAR, find optimal p based on AIC, etc.\n",
    "*   Subtract $y_{t-1}$ from both sides\n",
    "*   You again test beta = 0 but you now have all the $p$ $y_{t-1} - y_{t-i-1}$ terms\n",
    "*   This aims to soak up autocorrelation from the residuals and get closer to white noise\n",
    "*   Essentially the difference is that we choose the number of lags for our model in which we test, and Eviews chooses this p based on the information criteria\n",
    "*   Null: Non-stationarity? Doe that imply I(1)? Could also be higher order non-stationarity\n",
    "*   You do that test again for the first-differenced series to see if its I(1) or I(2)\n",
    "\n",
    "\n",
    "\n",
    "\n",
    "\n",
    "\n",
    "\n",
    "\n",
    "\n",
    "\n",
    "\n",
    "\n"
   ]
  },
  {
   "cell_type": "markdown",
   "metadata": {
    "colab_type": "text",
    "id": "5A3nAdYyfAkc"
   },
   "source": [
    "### 3. Other Unit Root Tests"
   ]
  },
  {
   "cell_type": "markdown",
   "metadata": {
    "colab_type": "text",
    "id": "P2RXz1Z4Z6zB"
   },
   "source": [
    "There are different unit root tests - the difference is the 'power' of a test - the probability of choosing the alternative when it is true:\n",
    "*   Extending to allow for time trend (resulting in different critical values)\n",
    "*   Allowing for structural breaks (resulting in different critical values)\n",
    "*   Phillips-Perron (nonparametrric autocorrelation adjustment)\n",
    "*   KPSS (null hypothesis is stationary)\n",
    "*   Elliott-Rothenberg-Stock (improvement in power)\n",
    "\n",
    "Interesting extension: price bubbles, where null is unit root, but alternative is phi > 1, indicatign explosive unit root or price bubble. Don't do whole sample, do rolling windows or expanding windows.\n",
    "\n"
   ]
  },
  {
   "cell_type": "markdown",
   "metadata": {
    "colab_type": "text",
    "id": "9gJvTegNfEWN"
   },
   "source": [
    "### Week 8 - Nonstationary Models: Cointegration"
   ]
  },
  {
   "cell_type": "markdown",
   "metadata": {
    "colab_type": "text",
    "id": "FvI6Xg6ndSp5"
   },
   "source": [
    "Equilibrium talk and convergence doesn't seem to make sense if there is non-stationarity.\n",
    "\n",
    "It is possible, you don't talk about a static equillibrium (feed a shock, variable converges to a single point), we talk about dynamic long-run equilibrium (that changes all the time, but processes are attracted to each other)."
   ]
  },
  {
   "cell_type": "markdown",
   "metadata": {
    "colab_type": "text",
    "id": "KomgxEJ1fH0F"
   },
   "source": [
    "### 1. Long-Run Economic Behaviour"
   ]
  },
  {
   "cell_type": "markdown",
   "metadata": {
    "colab_type": "text",
    "id": "SjSx-YgRfLJu"
   },
   "source": [
    "### 2. Cointegration Definition"
   ]
  },
  {
   "cell_type": "markdown",
   "metadata": {
    "colab_type": "text",
    "id": "uINeucS0dp0a"
   },
   "source": [
    "We have 2 variables that must be non-stationary.\n",
    "\n",
    "Visually, you can do a scatter diagram of 2 variables and see a linear line.\n",
    "\n",
    "Consider you model a linear relationship between these 2 variables:\n",
    "\n",
    "$y_{1t} = \\beta_0 + \\beta_1 y_{2t} + e_t$\n",
    "\n",
    "If deviations do not persist for too long i.e. $e_t$ is I(0), then the movement of 1 variable is determined by the movement of another variable. This doesn't mean its white noise, it can exhibit autocorrelation.\n",
    "\n",
    "Cointegration is if the 2 variables are I(1), you model them in a linear relationship, and the difference/residual is stationary I(0), then the 2 variables are cointegrated.\n",
    "\n",
    "Key implication is that this equation is a long-run equation because the deviations are temporary, thus we move towards to this relationship.\n",
    "\n",
    "More generally, if 2 variables are I(2) and the errors in the linear relationship is lower, even I(1), it is cointegrated."
   ]
  },
  {
   "cell_type": "markdown",
   "metadata": {
    "colab_type": "text",
    "id": "x1TsVwvOnBYm"
   },
   "source": [
    "### 3. Spurious Correlation"
   ]
  },
  {
   "cell_type": "markdown",
   "metadata": {
    "colab_type": "text",
    "id": "oHK5Z2HKnEt2"
   },
   "source": [
    "Spurious correlation is where two variables don't have any economic connecting process, but they are found to be highly (positively or negatively) correlated.\n",
    "\n",
    "This can arise when 2 variables are non-stationary but are not cointegrated. \n",
    "\n",
    "You will find that the higher degree of non-stationarity, there tends to be higher correlation, generating high R-squareds when we model it, which is purely spurious!\n",
    "\n"
   ]
  },
  {
   "cell_type": "markdown",
   "metadata": {
    "colab_type": "text",
    "id": "EAor3TdZfOje"
   },
   "source": [
    "### 3. Cointegration Equation Estimation"
   ]
  },
  {
   "cell_type": "markdown",
   "metadata": {
    "colab_type": "text",
    "id": "cn4Ajos6pQfb"
   },
   "source": [
    "We start with a linear equation.\n",
    "\n",
    "We have different co-integrating estimators:\n",
    "*   Engle-Granger estimator i.e. LS (single equation)\n",
    "*   Johansen estimator (multiple equation)\n",
    "\n",
    "These estimators have an important statistical property:\n",
    "*   Because our variables are non-stationary and co-integrated,  we have super/T consistency where it converges to the population beta at rate T\n",
    "*   Our standard estimators, which assume stationarity, are consistent at the usual rate of root T\n",
    "\n",
    "Engle-Granger estimator i.e. LS (single equation)\n",
    "*   Regress using OLS\n",
    "*   Look at residuals to see if stationary, they may stil have autocorrelation, they are zero mean due to including a intercept\n",
    "\n"
   ]
  },
  {
   "cell_type": "markdown",
   "metadata": {
    "colab_type": "text",
    "id": "DZ4ERtmAfRnS"
   },
   "source": [
    "### 4. Cointegration Testing"
   ]
  },
  {
   "cell_type": "markdown",
   "metadata": {
    "colab_type": "text",
    "id": "y_VxmKTirnRq"
   },
   "source": [
    "\n",
    "*   Estimate model using Engle-Granger / OLS.\n",
    "*   Then compute OLS residuals.\n",
    "*   Then apply ADF unit root test on residuals.\n",
    "\n",
    "However,the residuals is based on our estimated model, and we need to recognise the loss in the degrees of freedom used in the estimation of our model and thus our residuals, thus we need to generate the correct critical values and p-values.\n",
    "\n",
    "The Johansen cointegration test:\n",
    "*   Multivariate generalisation\n",
    "*   First stage: null no cointegration for N-variate system both variables only non-stationary, alternative: at least one cointegrating equation\n",
    "*   2nd stage: null one cointegratign equation, alternative at least two cointegrating equations\n",
    "*   Stage N: null N - 1 cointegrating equations, alternative: all variables stationary I(0)\n",
    "\n",
    "When doing this test, it gives us a eigenvalue, a trace statistic, the 0.05 critical value and the p-value.\n",
    "\n",
    "\n"
   ]
  },
  {
   "cell_type": "markdown",
   "metadata": {
    "colab_type": "text",
    "id": "3LYvsgqo502v"
   },
   "source": [
    "### Examples of Well Known Cointegrating Relationships"
   ]
  },
  {
   "cell_type": "markdown",
   "metadata": {
    "colab_type": "text",
    "id": "3ZJQ2EoU54cZ"
   },
   "source": [
    "\n",
    "\n",
    "*   Term structure of interest rates\n",
    "*   Permanent income hypothesis (real consumption, real GDP)\n",
    "*   Money demand (real GDP, real money, interest rates)\n",
    "*   Fisher equation (interest rate, inflation)\n",
    "*   Present value model (stock price, dividends)\n",
    "*   Purchasing power parity (exchange rate, domestic and foreign prices)\n",
    "\n",
    "\n",
    "\n"
   ]
  }
 ],
 "metadata": {
  "kernelspec": {
   "display_name": "Python 3.8.0 64-bit",
   "metadata": {
    "interpreter": {
     "hash": "2d04f120ef9720f2488447f7ea0097f595927923387bca235b2adec1aebe5795"
    }
   },
   "name": "python3"
  },
  "language_info": {
   "name": "python",
   "nbconvert_exporter": "python",
   "version": "3.8.0"
  },
  "orig_nbformat": 2
 },
 "nbformat": 4,
 "nbformat_minor": 2
}